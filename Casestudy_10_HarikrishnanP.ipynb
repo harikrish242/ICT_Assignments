{
 "cells": [
  {
   "cell_type": "code",
   "execution_count": 2,
   "id": "32f96e64",
   "metadata": {},
   "outputs": [
    {
     "data": {
      "text/html": [
       "<div>\n",
       "<style scoped>\n",
       "    .dataframe tbody tr th:only-of-type {\n",
       "        vertical-align: middle;\n",
       "    }\n",
       "\n",
       "    .dataframe tbody tr th {\n",
       "        vertical-align: top;\n",
       "    }\n",
       "\n",
       "    .dataframe thead th {\n",
       "        text-align: right;\n",
       "    }\n",
       "</style>\n",
       "<table border=\"1\" class=\"dataframe\">\n",
       "  <thead>\n",
       "    <tr style=\"text-align: right;\">\n",
       "      <th></th>\n",
       "      <th>class</th>\n",
       "      <th>cap-shape</th>\n",
       "      <th>cap-surface</th>\n",
       "      <th>cap-color</th>\n",
       "      <th>bruises</th>\n",
       "      <th>odor</th>\n",
       "      <th>gill-attachment</th>\n",
       "      <th>gill-spacing</th>\n",
       "      <th>gill-size</th>\n",
       "      <th>gill-color</th>\n",
       "      <th>...</th>\n",
       "      <th>stalk-surface-below-ring</th>\n",
       "      <th>stalk-color-above-ring</th>\n",
       "      <th>stalk-color-below-ring</th>\n",
       "      <th>veil-type</th>\n",
       "      <th>veil-color</th>\n",
       "      <th>ring-number</th>\n",
       "      <th>ring-type</th>\n",
       "      <th>spore-print-color</th>\n",
       "      <th>population</th>\n",
       "      <th>habitat</th>\n",
       "    </tr>\n",
       "  </thead>\n",
       "  <tbody>\n",
       "    <tr>\n",
       "      <th>0</th>\n",
       "      <td>p</td>\n",
       "      <td>x</td>\n",
       "      <td>s</td>\n",
       "      <td>n</td>\n",
       "      <td>t</td>\n",
       "      <td>p</td>\n",
       "      <td>f</td>\n",
       "      <td>c</td>\n",
       "      <td>n</td>\n",
       "      <td>k</td>\n",
       "      <td>...</td>\n",
       "      <td>s</td>\n",
       "      <td>w</td>\n",
       "      <td>w</td>\n",
       "      <td>p</td>\n",
       "      <td>w</td>\n",
       "      <td>o</td>\n",
       "      <td>p</td>\n",
       "      <td>k</td>\n",
       "      <td>s</td>\n",
       "      <td>u</td>\n",
       "    </tr>\n",
       "    <tr>\n",
       "      <th>1</th>\n",
       "      <td>e</td>\n",
       "      <td>x</td>\n",
       "      <td>s</td>\n",
       "      <td>y</td>\n",
       "      <td>t</td>\n",
       "      <td>a</td>\n",
       "      <td>f</td>\n",
       "      <td>c</td>\n",
       "      <td>b</td>\n",
       "      <td>k</td>\n",
       "      <td>...</td>\n",
       "      <td>s</td>\n",
       "      <td>w</td>\n",
       "      <td>w</td>\n",
       "      <td>p</td>\n",
       "      <td>w</td>\n",
       "      <td>o</td>\n",
       "      <td>p</td>\n",
       "      <td>n</td>\n",
       "      <td>n</td>\n",
       "      <td>g</td>\n",
       "    </tr>\n",
       "    <tr>\n",
       "      <th>2</th>\n",
       "      <td>e</td>\n",
       "      <td>b</td>\n",
       "      <td>s</td>\n",
       "      <td>w</td>\n",
       "      <td>t</td>\n",
       "      <td>l</td>\n",
       "      <td>f</td>\n",
       "      <td>c</td>\n",
       "      <td>b</td>\n",
       "      <td>n</td>\n",
       "      <td>...</td>\n",
       "      <td>s</td>\n",
       "      <td>w</td>\n",
       "      <td>w</td>\n",
       "      <td>p</td>\n",
       "      <td>w</td>\n",
       "      <td>o</td>\n",
       "      <td>p</td>\n",
       "      <td>n</td>\n",
       "      <td>n</td>\n",
       "      <td>m</td>\n",
       "    </tr>\n",
       "    <tr>\n",
       "      <th>3</th>\n",
       "      <td>p</td>\n",
       "      <td>x</td>\n",
       "      <td>y</td>\n",
       "      <td>w</td>\n",
       "      <td>t</td>\n",
       "      <td>p</td>\n",
       "      <td>f</td>\n",
       "      <td>c</td>\n",
       "      <td>n</td>\n",
       "      <td>n</td>\n",
       "      <td>...</td>\n",
       "      <td>s</td>\n",
       "      <td>w</td>\n",
       "      <td>w</td>\n",
       "      <td>p</td>\n",
       "      <td>w</td>\n",
       "      <td>o</td>\n",
       "      <td>p</td>\n",
       "      <td>k</td>\n",
       "      <td>s</td>\n",
       "      <td>u</td>\n",
       "    </tr>\n",
       "    <tr>\n",
       "      <th>4</th>\n",
       "      <td>e</td>\n",
       "      <td>x</td>\n",
       "      <td>s</td>\n",
       "      <td>g</td>\n",
       "      <td>f</td>\n",
       "      <td>n</td>\n",
       "      <td>f</td>\n",
       "      <td>w</td>\n",
       "      <td>b</td>\n",
       "      <td>k</td>\n",
       "      <td>...</td>\n",
       "      <td>s</td>\n",
       "      <td>w</td>\n",
       "      <td>w</td>\n",
       "      <td>p</td>\n",
       "      <td>w</td>\n",
       "      <td>o</td>\n",
       "      <td>e</td>\n",
       "      <td>n</td>\n",
       "      <td>a</td>\n",
       "      <td>g</td>\n",
       "    </tr>\n",
       "  </tbody>\n",
       "</table>\n",
       "<p>5 rows × 23 columns</p>\n",
       "</div>"
      ],
      "text/plain": [
       "  class cap-shape cap-surface cap-color bruises odor gill-attachment  \\\n",
       "0     p         x           s         n       t    p               f   \n",
       "1     e         x           s         y       t    a               f   \n",
       "2     e         b           s         w       t    l               f   \n",
       "3     p         x           y         w       t    p               f   \n",
       "4     e         x           s         g       f    n               f   \n",
       "\n",
       "  gill-spacing gill-size gill-color  ... stalk-surface-below-ring  \\\n",
       "0            c         n          k  ...                        s   \n",
       "1            c         b          k  ...                        s   \n",
       "2            c         b          n  ...                        s   \n",
       "3            c         n          n  ...                        s   \n",
       "4            w         b          k  ...                        s   \n",
       "\n",
       "  stalk-color-above-ring stalk-color-below-ring veil-type veil-color  \\\n",
       "0                      w                      w         p          w   \n",
       "1                      w                      w         p          w   \n",
       "2                      w                      w         p          w   \n",
       "3                      w                      w         p          w   \n",
       "4                      w                      w         p          w   \n",
       "\n",
       "  ring-number ring-type spore-print-color population habitat  \n",
       "0           o         p                 k          s       u  \n",
       "1           o         p                 n          n       g  \n",
       "2           o         p                 n          n       m  \n",
       "3           o         p                 k          s       u  \n",
       "4           o         e                 n          a       g  \n",
       "\n",
       "[5 rows x 23 columns]"
      ]
     },
     "execution_count": 2,
     "metadata": {},
     "output_type": "execute_result"
    }
   ],
   "source": [
    "import pandas as pd\n",
    "import matplotlib.pyplot as plt\n",
    "import numpy as np\n",
    "import seaborn as sns\n",
    "\n",
    "df=pd.read_csv('mushrooms.csv')\n",
    "df.head()"
   ]
  },
  {
   "cell_type": "code",
   "execution_count": 3,
   "id": "2da09749",
   "metadata": {},
   "outputs": [
    {
     "data": {
      "text/plain": [
       "(8124, 23)"
      ]
     },
     "execution_count": 3,
     "metadata": {},
     "output_type": "execute_result"
    }
   ],
   "source": [
    "df.shape"
   ]
  },
  {
   "cell_type": "code",
   "execution_count": 4,
   "id": "bf04d13e",
   "metadata": {},
   "outputs": [
    {
     "name": "stdout",
     "output_type": "stream",
     "text": [
      "<class 'pandas.core.frame.DataFrame'>\n",
      "RangeIndex: 8124 entries, 0 to 8123\n",
      "Data columns (total 23 columns):\n",
      " #   Column                    Non-Null Count  Dtype \n",
      "---  ------                    --------------  ----- \n",
      " 0   class                     8124 non-null   object\n",
      " 1   cap-shape                 8124 non-null   object\n",
      " 2   cap-surface               8124 non-null   object\n",
      " 3   cap-color                 8124 non-null   object\n",
      " 4   bruises                   8124 non-null   object\n",
      " 5   odor                      8124 non-null   object\n",
      " 6   gill-attachment           8124 non-null   object\n",
      " 7   gill-spacing              8124 non-null   object\n",
      " 8   gill-size                 8124 non-null   object\n",
      " 9   gill-color                8124 non-null   object\n",
      " 10  stalk-shape               8124 non-null   object\n",
      " 11  stalk-root                8124 non-null   object\n",
      " 12  stalk-surface-above-ring  8124 non-null   object\n",
      " 13  stalk-surface-below-ring  8124 non-null   object\n",
      " 14  stalk-color-above-ring    8124 non-null   object\n",
      " 15  stalk-color-below-ring    8124 non-null   object\n",
      " 16  veil-type                 8124 non-null   object\n",
      " 17  veil-color                8124 non-null   object\n",
      " 18  ring-number               8124 non-null   object\n",
      " 19  ring-type                 8124 non-null   object\n",
      " 20  spore-print-color         8124 non-null   object\n",
      " 21  population                8124 non-null   object\n",
      " 22  habitat                   8124 non-null   object\n",
      "dtypes: object(23)\n",
      "memory usage: 1.4+ MB\n"
     ]
    }
   ],
   "source": [
    "df.info()"
   ]
  },
  {
   "cell_type": "code",
   "execution_count": 5,
   "id": "db3c2da4",
   "metadata": {},
   "outputs": [
    {
     "data": {
      "text/plain": [
       "class                       0\n",
       "cap-shape                   0\n",
       "cap-surface                 0\n",
       "cap-color                   0\n",
       "bruises                     0\n",
       "odor                        0\n",
       "gill-attachment             0\n",
       "gill-spacing                0\n",
       "gill-size                   0\n",
       "gill-color                  0\n",
       "stalk-shape                 0\n",
       "stalk-root                  0\n",
       "stalk-surface-above-ring    0\n",
       "stalk-surface-below-ring    0\n",
       "stalk-color-above-ring      0\n",
       "stalk-color-below-ring      0\n",
       "veil-type                   0\n",
       "veil-color                  0\n",
       "ring-number                 0\n",
       "ring-type                   0\n",
       "spore-print-color           0\n",
       "population                  0\n",
       "habitat                     0\n",
       "dtype: int64"
      ]
     },
     "execution_count": 5,
     "metadata": {},
     "output_type": "execute_result"
    }
   ],
   "source": [
    "df.isnull().sum()"
   ]
  },
  {
   "cell_type": "markdown",
   "id": "06c4bfb0",
   "metadata": {},
   "source": [
    "No Null values are present in the dataset."
   ]
  },
  {
   "cell_type": "code",
   "execution_count": 7,
   "id": "ebb78056",
   "metadata": {},
   "outputs": [
    {
     "data": {
      "text/plain": [
       "Index(['class', 'cap-shape', 'cap-surface', 'cap-color', 'bruises', 'odor',\n",
       "       'gill-attachment', 'gill-spacing', 'gill-size', 'gill-color',\n",
       "       'stalk-shape', 'stalk-root', 'stalk-surface-above-ring',\n",
       "       'stalk-surface-below-ring', 'stalk-color-above-ring',\n",
       "       'stalk-color-below-ring', 'veil-type', 'veil-color', 'ring-number',\n",
       "       'ring-type', 'spore-print-color', 'population', 'habitat'],\n",
       "      dtype='object')"
      ]
     },
     "execution_count": 7,
     "metadata": {},
     "output_type": "execute_result"
    }
   ],
   "source": [
    "df.columns"
   ]
  },
  {
   "cell_type": "code",
   "execution_count": 8,
   "id": "80d7f3ab",
   "metadata": {},
   "outputs": [],
   "source": [
    "#Encoding all the fields as all fields are string values.\n",
    "from sklearn.preprocessing import LabelEncoder\n",
    "en = LabelEncoder()\n",
    "\n",
    "cols=['class', 'cap-shape', 'cap-surface', 'cap-color', 'bruises', 'odor',\n",
    "       'gill-attachment', 'gill-spacing', 'gill-size', 'gill-color',\n",
    "       'stalk-shape', 'stalk-root', 'stalk-surface-above-ring',\n",
    "       'stalk-surface-below-ring', 'stalk-color-above-ring',\n",
    "       'stalk-color-below-ring', 'veil-type', 'veil-color', 'ring-number',\n",
    "       'ring-type', 'spore-print-color', 'population', 'habitat']\n",
    "\n",
    "for i in cols:\n",
    "    df[i]= en.fit_transform(df[i])"
   ]
  },
  {
   "cell_type": "code",
   "execution_count": 9,
   "id": "1f56d473",
   "metadata": {},
   "outputs": [
    {
     "data": {
      "text/html": [
       "<div>\n",
       "<style scoped>\n",
       "    .dataframe tbody tr th:only-of-type {\n",
       "        vertical-align: middle;\n",
       "    }\n",
       "\n",
       "    .dataframe tbody tr th {\n",
       "        vertical-align: top;\n",
       "    }\n",
       "\n",
       "    .dataframe thead th {\n",
       "        text-align: right;\n",
       "    }\n",
       "</style>\n",
       "<table border=\"1\" class=\"dataframe\">\n",
       "  <thead>\n",
       "    <tr style=\"text-align: right;\">\n",
       "      <th></th>\n",
       "      <th>class</th>\n",
       "      <th>cap-shape</th>\n",
       "      <th>cap-surface</th>\n",
       "      <th>cap-color</th>\n",
       "      <th>bruises</th>\n",
       "      <th>odor</th>\n",
       "      <th>gill-attachment</th>\n",
       "      <th>gill-spacing</th>\n",
       "      <th>gill-size</th>\n",
       "      <th>gill-color</th>\n",
       "      <th>...</th>\n",
       "      <th>stalk-surface-below-ring</th>\n",
       "      <th>stalk-color-above-ring</th>\n",
       "      <th>stalk-color-below-ring</th>\n",
       "      <th>veil-type</th>\n",
       "      <th>veil-color</th>\n",
       "      <th>ring-number</th>\n",
       "      <th>ring-type</th>\n",
       "      <th>spore-print-color</th>\n",
       "      <th>population</th>\n",
       "      <th>habitat</th>\n",
       "    </tr>\n",
       "  </thead>\n",
       "  <tbody>\n",
       "    <tr>\n",
       "      <th>0</th>\n",
       "      <td>1</td>\n",
       "      <td>5</td>\n",
       "      <td>2</td>\n",
       "      <td>4</td>\n",
       "      <td>1</td>\n",
       "      <td>6</td>\n",
       "      <td>1</td>\n",
       "      <td>0</td>\n",
       "      <td>1</td>\n",
       "      <td>4</td>\n",
       "      <td>...</td>\n",
       "      <td>2</td>\n",
       "      <td>7</td>\n",
       "      <td>7</td>\n",
       "      <td>0</td>\n",
       "      <td>2</td>\n",
       "      <td>1</td>\n",
       "      <td>4</td>\n",
       "      <td>2</td>\n",
       "      <td>3</td>\n",
       "      <td>5</td>\n",
       "    </tr>\n",
       "    <tr>\n",
       "      <th>1</th>\n",
       "      <td>0</td>\n",
       "      <td>5</td>\n",
       "      <td>2</td>\n",
       "      <td>9</td>\n",
       "      <td>1</td>\n",
       "      <td>0</td>\n",
       "      <td>1</td>\n",
       "      <td>0</td>\n",
       "      <td>0</td>\n",
       "      <td>4</td>\n",
       "      <td>...</td>\n",
       "      <td>2</td>\n",
       "      <td>7</td>\n",
       "      <td>7</td>\n",
       "      <td>0</td>\n",
       "      <td>2</td>\n",
       "      <td>1</td>\n",
       "      <td>4</td>\n",
       "      <td>3</td>\n",
       "      <td>2</td>\n",
       "      <td>1</td>\n",
       "    </tr>\n",
       "    <tr>\n",
       "      <th>2</th>\n",
       "      <td>0</td>\n",
       "      <td>0</td>\n",
       "      <td>2</td>\n",
       "      <td>8</td>\n",
       "      <td>1</td>\n",
       "      <td>3</td>\n",
       "      <td>1</td>\n",
       "      <td>0</td>\n",
       "      <td>0</td>\n",
       "      <td>5</td>\n",
       "      <td>...</td>\n",
       "      <td>2</td>\n",
       "      <td>7</td>\n",
       "      <td>7</td>\n",
       "      <td>0</td>\n",
       "      <td>2</td>\n",
       "      <td>1</td>\n",
       "      <td>4</td>\n",
       "      <td>3</td>\n",
       "      <td>2</td>\n",
       "      <td>3</td>\n",
       "    </tr>\n",
       "    <tr>\n",
       "      <th>3</th>\n",
       "      <td>1</td>\n",
       "      <td>5</td>\n",
       "      <td>3</td>\n",
       "      <td>8</td>\n",
       "      <td>1</td>\n",
       "      <td>6</td>\n",
       "      <td>1</td>\n",
       "      <td>0</td>\n",
       "      <td>1</td>\n",
       "      <td>5</td>\n",
       "      <td>...</td>\n",
       "      <td>2</td>\n",
       "      <td>7</td>\n",
       "      <td>7</td>\n",
       "      <td>0</td>\n",
       "      <td>2</td>\n",
       "      <td>1</td>\n",
       "      <td>4</td>\n",
       "      <td>2</td>\n",
       "      <td>3</td>\n",
       "      <td>5</td>\n",
       "    </tr>\n",
       "    <tr>\n",
       "      <th>4</th>\n",
       "      <td>0</td>\n",
       "      <td>5</td>\n",
       "      <td>2</td>\n",
       "      <td>3</td>\n",
       "      <td>0</td>\n",
       "      <td>5</td>\n",
       "      <td>1</td>\n",
       "      <td>1</td>\n",
       "      <td>0</td>\n",
       "      <td>4</td>\n",
       "      <td>...</td>\n",
       "      <td>2</td>\n",
       "      <td>7</td>\n",
       "      <td>7</td>\n",
       "      <td>0</td>\n",
       "      <td>2</td>\n",
       "      <td>1</td>\n",
       "      <td>0</td>\n",
       "      <td>3</td>\n",
       "      <td>0</td>\n",
       "      <td>1</td>\n",
       "    </tr>\n",
       "  </tbody>\n",
       "</table>\n",
       "<p>5 rows × 23 columns</p>\n",
       "</div>"
      ],
      "text/plain": [
       "   class  cap-shape  cap-surface  cap-color  bruises  odor  gill-attachment  \\\n",
       "0      1          5            2          4        1     6                1   \n",
       "1      0          5            2          9        1     0                1   \n",
       "2      0          0            2          8        1     3                1   \n",
       "3      1          5            3          8        1     6                1   \n",
       "4      0          5            2          3        0     5                1   \n",
       "\n",
       "   gill-spacing  gill-size  gill-color  ...  stalk-surface-below-ring  \\\n",
       "0             0          1           4  ...                         2   \n",
       "1             0          0           4  ...                         2   \n",
       "2             0          0           5  ...                         2   \n",
       "3             0          1           5  ...                         2   \n",
       "4             1          0           4  ...                         2   \n",
       "\n",
       "   stalk-color-above-ring  stalk-color-below-ring  veil-type  veil-color  \\\n",
       "0                       7                       7          0           2   \n",
       "1                       7                       7          0           2   \n",
       "2                       7                       7          0           2   \n",
       "3                       7                       7          0           2   \n",
       "4                       7                       7          0           2   \n",
       "\n",
       "   ring-number  ring-type  spore-print-color  population  habitat  \n",
       "0            1          4                  2           3        5  \n",
       "1            1          4                  3           2        1  \n",
       "2            1          4                  3           2        3  \n",
       "3            1          4                  2           3        5  \n",
       "4            1          0                  3           0        1  \n",
       "\n",
       "[5 rows x 23 columns]"
      ]
     },
     "execution_count": 9,
     "metadata": {},
     "output_type": "execute_result"
    }
   ],
   "source": [
    " df.head()"
   ]
  },
  {
   "cell_type": "markdown",
   "id": "23becdb0",
   "metadata": {},
   "source": [
    "### Modelling"
   ]
  },
  {
   "cell_type": "code",
   "execution_count": 25,
   "id": "ddbd054c",
   "metadata": {},
   "outputs": [],
   "source": [
    "#splitting the dataset into X and y\n",
    "X=df.drop('class',axis=1)\n",
    "y=df['class']"
   ]
  },
  {
   "cell_type": "code",
   "execution_count": 26,
   "id": "f432e40e",
   "metadata": {},
   "outputs": [],
   "source": [
    "#importing train_test_split and creating train and test datasets\n",
    "from sklearn.model_selection import train_test_split\n",
    "X_train,X_test,y_train,y_test = train_test_split(X,y,test_size=0.2,random_state=42)"
   ]
  },
  {
   "cell_type": "code",
   "execution_count": 27,
   "id": "0ff9bc42",
   "metadata": {},
   "outputs": [],
   "source": [
    "from sklearn.metrics import confusion_matrix, accuracy_score, recall_score, precision_score, f1_score\n",
    "from sklearn.ensemble import RandomForestClassifier\n",
    "from sklearn.linear_model import LogisticRegression\n",
    "from sklearn.tree import DecisionTreeClassifier\n",
    "from sklearn.svm import SVC\n",
    "from sklearn.neighbors import KNeighborsClassifier\n",
    "from sklearn.naive_bayes import BernoulliNB\n",
    "from sklearn.naive_bayes import GaussianNB\n",
    "import warnings\n",
    "warnings.filterwarnings(\"ignore\")"
   ]
  },
  {
   "cell_type": "code",
   "execution_count": 28,
   "id": "d6483353",
   "metadata": {},
   "outputs": [],
   "source": [
    "#creating the empty list to display the accuracy and f1 score after running all models\n",
    "models=['RandomForest','LogisticRegression','DecisionTree','SVC','KNN','BernoulliNB','GaussianNB']\n",
    "model_test_acc=[]\n",
    "model_test_f1_score = []\n",
    "model_test_precision_score =[]\n",
    "model_test_recall_score =[]"
   ]
  },
  {
   "cell_type": "code",
   "execution_count": 29,
   "id": "58ef63b4",
   "metadata": {},
   "outputs": [
    {
     "name": "stdout",
     "output_type": "stream",
     "text": [
      "F1 Score on test data using RandomForest tree:  1.0\n",
      "Accuracy Score on test data using RandomForest tree:  1.0\n"
     ]
    }
   ],
   "source": [
    "rfc = RandomForestClassifier()\n",
    "rfc.fit(X_train,y_train)\n",
    "y_pred = rfc.predict(X_test)\n",
    "test_acc =  np.round(accuracy_score(y_test,y_pred),3)\n",
    "test_f1 =  np.round(f1_score(y_test,y_pred,average='weighted'),3)\n",
    "test_prec = np.round(recall_score(y_test, y_pred,average='weighted'),3)\n",
    "test_recall = np.round(precision_score(y_test, y_pred,average='weighted'),3)\n",
    "\n",
    "\n",
    "model_test_f1_score.append(test_f1)\n",
    "model_test_acc.append(test_acc)\n",
    "#model_test_precision_score(test_prec)\n",
    "#model_test_recall_score(test_recall)\n",
    "\n",
    "print(\"F1 Score on test data using RandomForest tree: \",test_f1)\n",
    "print(\"Accuracy Score on test data using RandomForest tree: \",test_acc)\n",
    "#print(\"Recall score on  test data using RandomForest tree: \",test_prec)\n",
    "#print(\"Precision score on test data using RandomForest tree: \",test_recall)"
   ]
  },
  {
   "cell_type": "code",
   "execution_count": 30,
   "id": "eb7fdb90",
   "metadata": {},
   "outputs": [
    {
     "name": "stdout",
     "output_type": "stream",
     "text": [
      "Recall score on  test data using RandomForest tree:  1.0\n",
      "Precision score on test data using RandomForest tree:  1.0\n"
     ]
    }
   ],
   "source": [
    "test_prec = np.round(recall_score(y_test, y_pred,average='weighted'),3)\n",
    "test_recall = np.round(precision_score(y_test, y_pred,average='weighted'),3)\n",
    "model_test_precision_score.append(test_prec)\n",
    "model_test_recall_score.append(test_recall)\n",
    "print(\"Recall score on  test data using RandomForest tree: \",test_prec)\n",
    "print(\"Precision score on test data using RandomForest tree: \",test_recall)"
   ]
  },
  {
   "cell_type": "code",
   "execution_count": 31,
   "id": "4a678cb9",
   "metadata": {},
   "outputs": [
    {
     "name": "stdout",
     "output_type": "stream",
     "text": [
      "F1 Score on test data using LogisticRegression:  0.948\n",
      "Accuracy Score on test data using LogisticRegression:  0.948\n",
      "Recall score on  test data using LogisticRegression :  0.948\n",
      "Precision score on test data using LogisticRegression :  0.948\n"
     ]
    }
   ],
   "source": [
    "lr = LogisticRegression(max_iter=200)\n",
    "lr.fit(X_train,y_train)\n",
    "y_pred1 = lr.predict(X_test)\n",
    "test_acc =  np.round(accuracy_score(y_test,y_pred1),3)\n",
    "test_f1 =  np.round(f1_score(y_test,y_pred1,average='weighted'),3)\n",
    "test_prec = np.round(recall_score(y_test, y_pred1,average='weighted'),3)\n",
    "test_recall = np.round(precision_score(y_test, y_pred1,average='weighted'),3)\n",
    "\n",
    "model_test_f1_score.append(test_f1)\n",
    "model_test_acc.append(test_acc)\n",
    "model_test_precision_score.append(test_prec)\n",
    "model_test_recall_score.append(test_recall)\n",
    "\n",
    "\n",
    "print(\"F1 Score on test data using LogisticRegression: \",test_f1)\n",
    "print(\"Accuracy Score on test data using LogisticRegression: \",test_acc)\n",
    "print(\"Recall score on  test data using LogisticRegression : \",test_prec)\n",
    "print(\"Precision score on test data using LogisticRegression : \",test_recall)"
   ]
  },
  {
   "cell_type": "code",
   "execution_count": 32,
   "id": "b0727b2a",
   "metadata": {},
   "outputs": [
    {
     "name": "stdout",
     "output_type": "stream",
     "text": [
      "F1 Score on test data using DecisionTree:  1.0\n",
      "Accuracy Score on test data using DecisionTree:  1.0\n",
      "Recall score on  test data using DecisionTree :  1.0\n",
      "Precision score on test data using DecisionTree :  1.0\n"
     ]
    }
   ],
   "source": [
    "tree = DecisionTreeClassifier()\n",
    "tree.fit(X_train,y_train)\n",
    "y_pred2 = tree.predict(X_test)\n",
    "test_acc =  np.round(accuracy_score(y_test,y_pred2),3)\n",
    "test_f1 =  np.round(f1_score(y_test,y_pred2,average='weighted'),3)\n",
    "test_prec = np.round(recall_score(y_test, y_pred2,average='weighted'),3)\n",
    "test_recall = np.round(precision_score(y_test, y_pred2,average='weighted'),3)\n",
    "\n",
    "\n",
    "model_test_f1_score.append(test_f1)\n",
    "model_test_acc.append(test_acc)\n",
    "model_test_precision_score.append(test_prec)\n",
    "model_test_recall_score.append(test_recall)\n",
    "\n",
    "print(\"F1 Score on test data using DecisionTree: \",test_f1)\n",
    "print(\"Accuracy Score on test data using DecisionTree: \",test_acc)\n",
    "print(\"Recall score on  test data using DecisionTree : \",test_prec)\n",
    "print(\"Precision score on test data using DecisionTree : \",test_recall)"
   ]
  },
  {
   "cell_type": "code",
   "execution_count": 33,
   "id": "90f7b35e",
   "metadata": {},
   "outputs": [
    {
     "name": "stdout",
     "output_type": "stream",
     "text": [
      "F1 Score on test data using SVM:  0.993\n",
      "Accuracy Score on test data using SVM:  0.993\n",
      "Recall score on  test data using SVM :  0.993\n",
      "Precision score on test data using SVM :  0.993\n"
     ]
    }
   ],
   "source": [
    "svm= SVC()\n",
    "svm.fit(X_train,y_train)\n",
    "y_pred3 = svm.predict(X_test)\n",
    "test_acc =  np.round(accuracy_score(y_test,y_pred3),3)\n",
    "test_f1 =  np.round(f1_score(y_test,y_pred3,average='weighted'),3)\n",
    "test_prec = np.round(recall_score(y_test, y_pred3,average='weighted'),3)\n",
    "test_recall = np.round(precision_score(y_test, y_pred3,average='weighted'),3)\n",
    "\n",
    "\n",
    "model_test_f1_score.append(test_f1)\n",
    "model_test_acc.append(test_acc)\n",
    "model_test_precision_score.append(test_prec)\n",
    "model_test_recall_score.append(test_recall)\n",
    "\n",
    "print(\"F1 Score on test data using SVM: \",test_f1)\n",
    "print(\"Accuracy Score on test data using SVM: \",test_acc)\n",
    "print(\"Recall score on  test data using SVM : \",test_prec)\n",
    "print(\"Precision score on test data using SVM : \",test_recall)"
   ]
  },
  {
   "cell_type": "code",
   "execution_count": 34,
   "id": "7979abce",
   "metadata": {},
   "outputs": [],
   "source": [
    "accuracy = []\n",
    "neighbors = np.arange(1,12)\n",
    "for k in neighbors:\n",
    "    classifier = KNeighborsClassifier(n_neighbors=k, metric='minkowski')\n",
    "    classifier.fit(X_train,y_train)\n",
    "    y_pred4 = classifier.predict(X_test)\n",
    "    acc = accuracy_score(y_pred4,y_test)\n",
    "    accuracy.append(acc)"
   ]
  },
  {
   "cell_type": "code",
   "execution_count": 35,
   "id": "a4921bfd",
   "metadata": {},
   "outputs": [
    {
     "data": {
      "text/plain": [
       "[0.9993846153846154,\n",
       " 0.9993846153846154,\n",
       " 0.9981538461538462,\n",
       " 0.9963076923076923,\n",
       " 0.9963076923076923,\n",
       " 0.9969230769230769,\n",
       " 0.9956923076923077,\n",
       " 0.9950769230769231,\n",
       " 0.9950769230769231,\n",
       " 0.9950769230769231,\n",
       " 0.9956923076923077]"
      ]
     },
     "execution_count": 35,
     "metadata": {},
     "output_type": "execute_result"
    }
   ],
   "source": [
    "accuracy"
   ]
  },
  {
   "cell_type": "code",
   "execution_count": 36,
   "id": "c8597a6e",
   "metadata": {},
   "outputs": [
    {
     "data": {
      "text/plain": [
       "<AxesSubplot:>"
      ]
     },
     "execution_count": 36,
     "metadata": {},
     "output_type": "execute_result"
    },
    {
     "data": {
      "image/png": "[encoded data removed]",
      "text/plain": [
       "<Figure size 432x288 with 1 Axes>"
      ]
     },
     "metadata": {
      "needs_background": "light"
     },
     "output_type": "display_data"
    }
   ],
   "source": [
    "sns.lineplot(x=neighbors,y=accuracy)"
   ]
  },
  {
   "cell_type": "code",
   "execution_count": 37,
   "id": "209c6eef",
   "metadata": {},
   "outputs": [
    {
     "name": "stdout",
     "output_type": "stream",
     "text": [
      "F1 Score on test data using KNN:  0.999\n",
      "Accuracy Score on test data using KNN:  0.999\n",
      "Recall score on  test data using SVM :  0.999\n",
      "Precision score on test data using SVM :  0.999\n"
     ]
    }
   ],
   "source": [
    "#Since accuracy score is good for 2, we can select 2 as k\n",
    "\n",
    "classifier = KNeighborsClassifier(n_neighbors=2, metric='minkowski')\n",
    "classifier.fit(X_train,y_train)\n",
    "y_pred5 = classifier.predict(X_test)\n",
    "test_acc =  np.round(accuracy_score(y_test,y_pred5),3)\n",
    "test_f1 =  np.round(f1_score(y_test,y_pred5,average='weighted'),3)\n",
    "test_prec = np.round(recall_score(y_test, y_pred5,average='weighted'),3)\n",
    "test_recall = np.round(precision_score(y_test, y_pred5,average='weighted'),3)\n",
    "\n",
    "\n",
    "model_test_f1_score.append(test_f1)\n",
    "model_test_acc.append(test_acc)\n",
    "model_test_precision_score.append(test_prec)\n",
    "model_test_recall_score.append(test_recall)\n",
    "\n",
    "print(\"F1 Score on test data using KNN: \",test_f1)\n",
    "print(\"Accuracy Score on test data using KNN: \",test_acc)\n",
    "print(\"Recall score on  test data using SVM : \",test_prec)\n",
    "print(\"Precision score on test data using SVM : \",test_recall)"
   ]
  },
  {
   "cell_type": "code",
   "execution_count": 38,
   "id": "beaa870f",
   "metadata": {},
   "outputs": [
    {
     "name": "stdout",
     "output_type": "stream",
     "text": [
      "F1 Score on test data using KNN:  0.84\n",
      "Accuracy Score on test data using KNN:  0.842\n",
      "Recall score on  test data using SVM :  0.842\n",
      "Precision score on test data using SVM :  0.856\n"
     ]
    }
   ],
   "source": [
    " # Applying Bernoulli Naive Bayes Classifier\n",
    "    \n",
    "from sklearn.naive_bayes import BernoulliNB\n",
    "classifier= BernoulliNB()\n",
    "classifier.fit(X_train, y_train)\n",
    "y_predd= classifier.predict(X_test)\n",
    "\n",
    "test_acc =  np.round(accuracy_score(y_test,y_predd),3)\n",
    "test_f1 =  np.round(f1_score(y_test,y_predd,average='weighted'),3)\n",
    "test_prec = np.round(recall_score(y_test, y_predd,average='weighted'),3)\n",
    "test_recall = np.round(precision_score(y_test, y_predd,average='weighted'),3)\n",
    "\n",
    "\n",
    "model_test_f1_score.append(test_f1)\n",
    "model_test_acc.append(test_acc)\n",
    "model_test_precision_score.append(test_prec)\n",
    "model_test_recall_score.append(test_recall)\n",
    "\n",
    "print(\"F1 Score on test data using KNN: \",test_f1)\n",
    "print(\"Accuracy Score on test data using KNN: \",test_acc)\n",
    "print(\"Recall score on  test data using SVM : \",test_prec)\n",
    "print(\"Precision score on test data using SVM : \",test_recall)"
   ]
  },
  {
   "cell_type": "code",
   "execution_count": 39,
   "id": "7612829a",
   "metadata": {},
   "outputs": [
    {
     "name": "stdout",
     "output_type": "stream",
     "text": [
      "F1 Score on test data using KNN:  0.84\n",
      "Accuracy Score on test data using KNN:  0.842\n",
      "Recall score on  test data using SVM :  0.842\n",
      "Precision score on test data using SVM :  0.856\n"
     ]
    }
   ],
   "source": [
    "classifier1= GaussianNB()\n",
    "classifier1.fit(X_train, y_train)\n",
    "y_predg= classifier.predict(X_test)\n",
    "\n",
    "test_acc =  np.round(accuracy_score(y_test,y_predg),3)\n",
    "test_f1 =  np.round(f1_score(y_test,y_predg,average='weighted'),3)\n",
    "test_prec = np.round(recall_score(y_test, y_predg,average='weighted'),3)\n",
    "test_recall = np.round(precision_score(y_test, y_predg,average='weighted'),3)\n",
    "\n",
    "\n",
    "model_test_f1_score.append(test_f1)\n",
    "model_test_acc.append(test_acc)\n",
    "model_test_precision_score.append(test_prec)\n",
    "model_test_recall_score.append(test_recall)\n",
    "\n",
    "print(\"F1 Score on test data using KNN: \",test_f1)\n",
    "print(\"Accuracy Score on test data using KNN: \",test_acc)\n",
    "print(\"Recall score on  test data using SVM : \",test_prec)\n",
    "print(\"Precision score on test data using SVM : \",test_recall)"
   ]
  },
  {
   "cell_type": "code",
   "execution_count": 40,
   "id": "a4ac13cd",
   "metadata": {},
   "outputs": [
    {
     "data": {
      "text/html": [
       "<div>\n",
       "<style scoped>\n",
       "    .dataframe tbody tr th:only-of-type {\n",
       "        vertical-align: middle;\n",
       "    }\n",
       "\n",
       "    .dataframe tbody tr th {\n",
       "        vertical-align: top;\n",
       "    }\n",
       "\n",
       "    .dataframe thead th {\n",
       "        text-align: right;\n",
       "    }\n",
       "</style>\n",
       "<table border=\"1\" class=\"dataframe\">\n",
       "  <thead>\n",
       "    <tr style=\"text-align: right;\">\n",
       "      <th></th>\n",
       "      <th>model</th>\n",
       "      <th>f1_score</th>\n",
       "      <th>accuracy</th>\n",
       "      <th>Recall_score</th>\n",
       "      <th>Precision_score</th>\n",
       "    </tr>\n",
       "  </thead>\n",
       "  <tbody>\n",
       "    <tr>\n",
       "      <th>0</th>\n",
       "      <td>RandomForest</td>\n",
       "      <td>1.000</td>\n",
       "      <td>1.000</td>\n",
       "      <td>1.000</td>\n",
       "      <td>1.000</td>\n",
       "    </tr>\n",
       "    <tr>\n",
       "      <th>1</th>\n",
       "      <td>LogisticRegression</td>\n",
       "      <td>0.948</td>\n",
       "      <td>0.948</td>\n",
       "      <td>0.948</td>\n",
       "      <td>0.948</td>\n",
       "    </tr>\n",
       "    <tr>\n",
       "      <th>2</th>\n",
       "      <td>DecisionTree</td>\n",
       "      <td>1.000</td>\n",
       "      <td>1.000</td>\n",
       "      <td>1.000</td>\n",
       "      <td>1.000</td>\n",
       "    </tr>\n",
       "    <tr>\n",
       "      <th>3</th>\n",
       "      <td>SVC</td>\n",
       "      <td>0.993</td>\n",
       "      <td>0.993</td>\n",
       "      <td>0.993</td>\n",
       "      <td>0.993</td>\n",
       "    </tr>\n",
       "    <tr>\n",
       "      <th>4</th>\n",
       "      <td>KNN</td>\n",
       "      <td>0.999</td>\n",
       "      <td>0.999</td>\n",
       "      <td>0.999</td>\n",
       "      <td>0.999</td>\n",
       "    </tr>\n",
       "    <tr>\n",
       "      <th>5</th>\n",
       "      <td>BernoulliNB</td>\n",
       "      <td>0.840</td>\n",
       "      <td>0.842</td>\n",
       "      <td>0.842</td>\n",
       "      <td>0.856</td>\n",
       "    </tr>\n",
       "    <tr>\n",
       "      <th>6</th>\n",
       "      <td>GaussianNB</td>\n",
       "      <td>0.840</td>\n",
       "      <td>0.842</td>\n",
       "      <td>0.842</td>\n",
       "      <td>0.856</td>\n",
       "    </tr>\n",
       "  </tbody>\n",
       "</table>\n",
       "</div>"
      ],
      "text/plain": [
       "                model  f1_score  accuracy  Recall_score  Precision_score\n",
       "0        RandomForest     1.000     1.000         1.000            1.000\n",
       "1  LogisticRegression     0.948     0.948         0.948            0.948\n",
       "2        DecisionTree     1.000     1.000         1.000            1.000\n",
       "3                 SVC     0.993     0.993         0.993            0.993\n",
       "4                 KNN     0.999     0.999         0.999            0.999\n",
       "5         BernoulliNB     0.840     0.842         0.842            0.856\n",
       "6          GaussianNB     0.840     0.842         0.842            0.856"
      ]
     },
     "execution_count": 40,
     "metadata": {},
     "output_type": "execute_result"
    }
   ],
   "source": [
    "#displaying the accuracy and f1 score of each models\n",
    "model_performance = pd.DataFrame({\n",
    "    'model':models,\n",
    "    'f1_score':model_test_f1_score,\n",
    "    'accuracy':model_test_acc,\n",
    "    'Recall_score':model_test_precision_score,\n",
    "    'Precision_score':model_test_recall_score,\n",
    "})\n",
    "model_performance"
   ]
  },
  {
   "cell_type": "markdown",
   "id": "554e8a54",
   "metadata": {},
   "source": [
    "From the above table its clear that Randomforest and Decision tree model has got very good scores and can be considered as good models"
   ]
  }
 ],
 "metadata": {
  "kernelspec": {
   "display_name": "Python 3",
   "language": "python",
   "name": "python3"
  },
  "language_info": {
   "codemirror_mode": {
    "name": "ipython",
    "version": 3
   },
   "file_extension": ".py",
   "mimetype": "text/x-python",
   "name": "python",
   "nbconvert_exporter": "python",
   "pygments_lexer": "ipython3",
   "version": "3.8.8"
  }
 },
 "nbformat": 4,
 "nbformat_minor": 5
}
