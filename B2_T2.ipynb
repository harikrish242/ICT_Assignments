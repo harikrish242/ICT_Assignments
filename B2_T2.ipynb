{
 "cells": [
  {
   "cell_type": "markdown",
   "metadata": {},
   "source": [
    "## Tsunami effect prediction\n",
    "We all know that TSUNAMI is  biggest natural disaster which took the lives of many human in different countries. Science had found out different reasons or cause behind eeach Tsunamis and still its not yet confirmed. The effect of Tsunami gets vary with the underlying cause.\n",
    "\n",
    "This dataset is about the effect of Tsunami in different countries ,its causes and the maginitude of the causes.\n",
    "\n"
   ]
  },
  {
   "cell_type": "markdown",
   "metadata": {},
   "source": [
    "### Data collection"
   ]
  },
  {
   "cell_type": "code",
   "execution_count": 251,
   "metadata": {},
   "outputs": [
    {
     "data": {
      "text/html": [
       "<div>\n",
       "<style scoped>\n",
       "    .dataframe tbody tr th:only-of-type {\n",
       "        vertical-align: middle;\n",
       "    }\n",
       "\n",
       "    .dataframe tbody tr th {\n",
       "        vertical-align: top;\n",
       "    }\n",
       "\n",
       "    .dataframe thead th {\n",
       "        text-align: right;\n",
       "    }\n",
       "</style>\n",
       "<table border=\"1\" class=\"dataframe\">\n",
       "  <thead>\n",
       "    <tr style=\"text-align: right;\">\n",
       "      <th></th>\n",
       "      <th>YEAR</th>\n",
       "      <th>MONTH</th>\n",
       "      <th>DAY</th>\n",
       "      <th>HOUR</th>\n",
       "      <th>MINUTE</th>\n",
       "      <th>LATITUDE</th>\n",
       "      <th>LONGITUDE</th>\n",
       "      <th>LOCATION_NAME</th>\n",
       "      <th>COUNTRY</th>\n",
       "      <th>REGION</th>\n",
       "      <th>CAUSE</th>\n",
       "      <th>EVENT_VALIDITY</th>\n",
       "      <th>EQ_MAGNITUDE</th>\n",
       "      <th>EQ_DEPTH</th>\n",
       "      <th>TS_INTENSITY</th>\n",
       "    </tr>\n",
       "  </thead>\n",
       "  <tbody>\n",
       "    <tr>\n",
       "      <th>0</th>\n",
       "      <td>-330</td>\n",
       "      <td>NaN</td>\n",
       "      <td>NaN</td>\n",
       "      <td>NaN</td>\n",
       "      <td>NaN</td>\n",
       "      <td>40.00</td>\n",
       "      <td>25.00</td>\n",
       "      <td>E. SPORADES ISLANDS, AEGEAN ISLANDS</td>\n",
       "      <td>GREECE</td>\n",
       "      <td>Mediterranean Sea</td>\n",
       "      <td>Earthquake</td>\n",
       "      <td>Very Doubtful Tsunami</td>\n",
       "      <td>7.0</td>\n",
       "      <td>NaN</td>\n",
       "      <td>NaN</td>\n",
       "    </tr>\n",
       "    <tr>\n",
       "      <th>1</th>\n",
       "      <td>859</td>\n",
       "      <td>NaN</td>\n",
       "      <td>NaN</td>\n",
       "      <td>NaN</td>\n",
       "      <td>NaN</td>\n",
       "      <td>36.08</td>\n",
       "      <td>36.25</td>\n",
       "      <td>SAMANDAGI</td>\n",
       "      <td>TURKEY</td>\n",
       "      <td>Mediterranean Sea</td>\n",
       "      <td>Earthquake</td>\n",
       "      <td>Questionable Tsunami</td>\n",
       "      <td>NaN</td>\n",
       "      <td>NaN</td>\n",
       "      <td>3.0</td>\n",
       "    </tr>\n",
       "    <tr>\n",
       "      <th>2</th>\n",
       "      <td>1580</td>\n",
       "      <td>1.0</td>\n",
       "      <td>NaN</td>\n",
       "      <td>NaN</td>\n",
       "      <td>NaN</td>\n",
       "      <td>40.00</td>\n",
       "      <td>128.00</td>\n",
       "      <td>YELLOW SEA</td>\n",
       "      <td>NORTH KOREA</td>\n",
       "      <td>China, North and South Korea, Philippines, Taiwan</td>\n",
       "      <td>Unknown</td>\n",
       "      <td>Very Doubtful Tsunami</td>\n",
       "      <td>NaN</td>\n",
       "      <td>NaN</td>\n",
       "      <td>1.0</td>\n",
       "    </tr>\n",
       "    <tr>\n",
       "      <th>3</th>\n",
       "      <td>-1300</td>\n",
       "      <td>NaN</td>\n",
       "      <td>NaN</td>\n",
       "      <td>NaN</td>\n",
       "      <td>NaN</td>\n",
       "      <td>39.96</td>\n",
       "      <td>26.24</td>\n",
       "      <td>IONIAN COASTS, TROAD</td>\n",
       "      <td>TURKEY</td>\n",
       "      <td>Mediterranean Sea</td>\n",
       "      <td>Unknown</td>\n",
       "      <td>Questionable Tsunami</td>\n",
       "      <td>6.0</td>\n",
       "      <td>NaN</td>\n",
       "      <td>5.0</td>\n",
       "    </tr>\n",
       "    <tr>\n",
       "      <th>4</th>\n",
       "      <td>1556</td>\n",
       "      <td>10.0</td>\n",
       "      <td>21.0</td>\n",
       "      <td>NaN</td>\n",
       "      <td>NaN</td>\n",
       "      <td>37.00</td>\n",
       "      <td>126.00</td>\n",
       "      <td>YELLOW SEA</td>\n",
       "      <td>SOUTH KOREA</td>\n",
       "      <td>China, North and South Korea, Philippines, Taiwan</td>\n",
       "      <td>Unknown</td>\n",
       "      <td>Very Doubtful Tsunami</td>\n",
       "      <td>NaN</td>\n",
       "      <td>NaN</td>\n",
       "      <td>0.5</td>\n",
       "    </tr>\n",
       "  </tbody>\n",
       "</table>\n",
       "</div>"
      ],
      "text/plain": [
       "   YEAR  MONTH   DAY  HOUR  MINUTE  LATITUDE  LONGITUDE  \\\n",
       "0  -330    NaN   NaN   NaN     NaN     40.00      25.00   \n",
       "1   859    NaN   NaN   NaN     NaN     36.08      36.25   \n",
       "2  1580    1.0   NaN   NaN     NaN     40.00     128.00   \n",
       "3 -1300    NaN   NaN   NaN     NaN     39.96      26.24   \n",
       "4  1556   10.0  21.0   NaN     NaN     37.00     126.00   \n",
       "\n",
       "                         LOCATION_NAME      COUNTRY  \\\n",
       "0  E. SPORADES ISLANDS, AEGEAN ISLANDS       GREECE   \n",
       "1                            SAMANDAGI       TURKEY   \n",
       "2                           YELLOW SEA  NORTH KOREA   \n",
       "3                 IONIAN COASTS, TROAD       TURKEY   \n",
       "4                           YELLOW SEA  SOUTH KOREA   \n",
       "\n",
       "                                              REGION       CAUSE  \\\n",
       "0                                  Mediterranean Sea  Earthquake   \n",
       "1                                  Mediterranean Sea  Earthquake   \n",
       "2  China, North and South Korea, Philippines, Taiwan     Unknown   \n",
       "3                                  Mediterranean Sea     Unknown   \n",
       "4  China, North and South Korea, Philippines, Taiwan     Unknown   \n",
       "\n",
       "          EVENT_VALIDITY  EQ_MAGNITUDE  EQ_DEPTH  TS_INTENSITY  \n",
       "0  Very Doubtful Tsunami           7.0       NaN           NaN  \n",
       "1   Questionable Tsunami           NaN       NaN           3.0  \n",
       "2  Very Doubtful Tsunami           NaN       NaN           1.0  \n",
       "3   Questionable Tsunami           6.0       NaN           5.0  \n",
       "4  Very Doubtful Tsunami           NaN       NaN           0.5  "
      ]
     },
     "execution_count": 251,
     "metadata": {},
     "output_type": "execute_result"
    }
   ],
   "source": [
    "#importing the packages and libraries\n",
    "import pandas as pd\n",
    "import matplotlib.pyplot as plt\n",
    "import numpy as np\n",
    "import seaborn as sns\n",
    "\n",
    "#reading the dataset to \n",
    "df=pd.read_csv('Tsunami_dataset.csv')\n",
    "df.head()"
   ]
  },
  {
   "cell_type": "markdown",
   "metadata": {},
   "source": [
    "### Feature understanding\n",
    "\n",
    "1.YEAR -- year in which Tsunami occured\n",
    "\n",
    "2.MONTH --month in which Tsunami occured\n",
    "\n",
    "3.DAY--day on which Tsunami occured\n",
    "\n",
    "4.HOUR--hour at which Tsunami occured\n",
    "\n",
    "5.MINUTE--minute at which Tsunami occured\n",
    "\n",
    "6.LATITUDE--latitude details\n",
    "\n",
    "7.LONGITUDE--longitude details\n",
    "\n",
    "8.LOCATION_NAME--affected location\n",
    "\n",
    "9.COUNTRY--affected country\n",
    "\n",
    "10.REGION--affected region\n",
    "\n",
    "11.CAUSE--reason behind the Tsunami\n",
    "\n",
    "12.EVENT_VALIDITY--effect of event\n",
    "\n",
    "13.EQ_MAGNITUDE--earth quake magnitude\n",
    "\n",
    "14.EQ_DEPTH -- earth quake depth\n",
    "\n",
    "15.TS_INTENSITY--intensity of Tsunami\n"
   ]
  },
  {
   "cell_type": "markdown",
   "metadata": {},
   "source": [
    "### Data analysis"
   ]
  },
  {
   "cell_type": "code",
   "execution_count": 252,
   "metadata": {},
   "outputs": [
    {
     "data": {
      "text/plain": [
       "(2108, 15)"
      ]
     },
     "execution_count": 252,
     "metadata": {},
     "output_type": "execute_result"
    }
   ],
   "source": [
    "df.shape"
   ]
  },
  {
   "cell_type": "code",
   "execution_count": 253,
   "metadata": {},
   "outputs": [
    {
     "data": {
      "text/plain": [
       "YEAR                 0\n",
       "MONTH               58\n",
       "DAY                103\n",
       "HOUR               862\n",
       "MINUTE             917\n",
       "LATITUDE             0\n",
       "LONGITUDE            0\n",
       "LOCATION_NAME        4\n",
       "COUNTRY              0\n",
       "REGION               1\n",
       "CAUSE                0\n",
       "EVENT_VALIDITY       0\n",
       "EQ_MAGNITUDE       471\n",
       "EQ_DEPTH          1189\n",
       "TS_INTENSITY       785\n",
       "dtype: int64"
      ]
     },
     "execution_count": 253,
     "metadata": {},
     "output_type": "execute_result"
    }
   ],
   "source": [
    "df.isnull().sum()"
   ]
  },
  {
   "cell_type": "code",
   "execution_count": 254,
   "metadata": {},
   "outputs": [
    {
     "data": {
      "text/plain": [
       "0"
      ]
     },
     "execution_count": 254,
     "metadata": {},
     "output_type": "execute_result"
    }
   ],
   "source": [
    "df.duplicated().sum()"
   ]
  },
  {
   "cell_type": "code",
   "execution_count": 255,
   "metadata": {},
   "outputs": [
    {
     "name": "stdout",
     "output_type": "stream",
     "text": [
      "<class 'pandas.core.frame.DataFrame'>\n",
      "RangeIndex: 2108 entries, 0 to 2107\n",
      "Data columns (total 15 columns):\n",
      " #   Column          Non-Null Count  Dtype  \n",
      "---  ------          --------------  -----  \n",
      " 0   YEAR            2108 non-null   int64  \n",
      " 1   MONTH           2050 non-null   float64\n",
      " 2   DAY             2005 non-null   float64\n",
      " 3   HOUR            1246 non-null   float64\n",
      " 4   MINUTE          1191 non-null   float64\n",
      " 5   LATITUDE        2108 non-null   float64\n",
      " 6   LONGITUDE       2108 non-null   float64\n",
      " 7   LOCATION_NAME   2104 non-null   object \n",
      " 8   COUNTRY         2108 non-null   object \n",
      " 9   REGION          2107 non-null   object \n",
      " 10  CAUSE           2108 non-null   object \n",
      " 11  EVENT_VALIDITY  2108 non-null   object \n",
      " 12  EQ_MAGNITUDE    1637 non-null   float64\n",
      " 13  EQ_DEPTH        919 non-null    float64\n",
      " 14  TS_INTENSITY    1323 non-null   float64\n",
      "dtypes: float64(9), int64(1), object(5)\n",
      "memory usage: 247.2+ KB\n"
     ]
    }
   ],
   "source": [
    "df.info()"
   ]
  },
  {
   "cell_type": "markdown",
   "metadata": {},
   "source": [
    "## Preprocessing"
   ]
  },
  {
   "cell_type": "code",
   "execution_count": 256,
   "metadata": {},
   "outputs": [
    {
     "data": {
      "text/plain": [
       "YEAR                 0\n",
       "MONTH               58\n",
       "DAY                103\n",
       "HOUR               862\n",
       "MINUTE             917\n",
       "LATITUDE             0\n",
       "LONGITUDE            0\n",
       "LOCATION_NAME        4\n",
       "COUNTRY              0\n",
       "REGION               1\n",
       "CAUSE                0\n",
       "EVENT_VALIDITY       0\n",
       "EQ_MAGNITUDE       471\n",
       "EQ_DEPTH          1189\n",
       "TS_INTENSITY       785\n",
       "dtype: int64"
      ]
     },
     "execution_count": 256,
     "metadata": {},
     "output_type": "execute_result"
    }
   ],
   "source": [
    "df.isnull().sum()"
   ]
  },
  {
   "cell_type": "markdown",
   "metadata": {},
   "source": [
    "We can see null values are present in all fields except year,latitude, longitude,country ,cause and event_validity."
   ]
  },
  {
   "cell_type": "markdown",
   "metadata": {},
   "source": [
    "#### Handling Null values"
   ]
  },
  {
   "cell_type": "code",
   "execution_count": 257,
   "metadata": {},
   "outputs": [],
   "source": [
    "#hour and minute fields having good number of null values and it wont contribute for the model,So dropping the two columns\n",
    "df.drop(['HOUR','MINUTE'],axis=1,inplace=True)"
   ]
  },
  {
   "cell_type": "code",
   "execution_count": 258,
   "metadata": {},
   "outputs": [
    {
     "data": {
      "text/plain": [
       "(2108, 13)"
      ]
     },
     "execution_count": 258,
     "metadata": {},
     "output_type": "execute_result"
    }
   ],
   "source": [
    "df.shape"
   ]
  },
  {
   "cell_type": "code",
   "execution_count": 259,
   "metadata": {},
   "outputs": [
    {
     "data": {
      "text/plain": [
       "Index(['YEAR', 'MONTH', 'DAY', 'LATITUDE', 'LONGITUDE', 'LOCATION_NAME',\n",
       "       'COUNTRY', 'REGION', 'CAUSE', 'EVENT_VALIDITY', 'EQ_MAGNITUDE',\n",
       "       'EQ_DEPTH', 'TS_INTENSITY'],\n",
       "      dtype='object')"
      ]
     },
     "execution_count": 259,
     "metadata": {},
     "output_type": "execute_result"
    }
   ],
   "source": [
    "df.columns"
   ]
  },
  {
   "cell_type": "code",
   "execution_count": 260,
   "metadata": {},
   "outputs": [],
   "source": [
    "#using mode of month ,day,LOCATION_NAME,REGION to fill in the missing values\n",
    "for i in ['MONTH', 'DAY','LOCATION_NAME','REGION']:\n",
    "    df[i]=df[i].fillna(df[i].mode()[0])"
   ]
  },
  {
   "cell_type": "code",
   "execution_count": 261,
   "metadata": {},
   "outputs": [
    {
     "data": {
      "text/plain": [
       "YEAR                 0\n",
       "MONTH                0\n",
       "DAY                  0\n",
       "LATITUDE             0\n",
       "LONGITUDE            0\n",
       "LOCATION_NAME        0\n",
       "COUNTRY              0\n",
       "REGION               0\n",
       "CAUSE                0\n",
       "EVENT_VALIDITY       0\n",
       "EQ_MAGNITUDE       471\n",
       "EQ_DEPTH          1189\n",
       "TS_INTENSITY       785\n",
       "dtype: int64"
      ]
     },
     "execution_count": 261,
     "metadata": {},
     "output_type": "execute_result"
    }
   ],
   "source": [
    "df.isnull().sum()"
   ]
  },
  {
   "cell_type": "markdown",
   "metadata": {},
   "source": [
    "eventhough the EQ_DEPTH field is having good number of null values,it cannot be dropped as we think it contributes to the tsunami effect\n"
   ]
  },
  {
   "cell_type": "code",
   "execution_count": 262,
   "metadata": {},
   "outputs": [],
   "source": [
    "#filling the missing values of remaining EQ_DEPTH fields with 0s\n",
    "df['EQ_DEPTH']=df['EQ_DEPTH'].fillna(0)"
   ]
  },
  {
   "cell_type": "code",
   "execution_count": 263,
   "metadata": {},
   "outputs": [
    {
     "data": {
      "text/plain": [
       "YEAR                0\n",
       "MONTH               0\n",
       "DAY                 0\n",
       "LATITUDE            0\n",
       "LONGITUDE           0\n",
       "LOCATION_NAME       0\n",
       "COUNTRY             0\n",
       "REGION              0\n",
       "CAUSE               0\n",
       "EVENT_VALIDITY      0\n",
       "EQ_MAGNITUDE      471\n",
       "EQ_DEPTH            0\n",
       "TS_INTENSITY      785\n",
       "dtype: int64"
      ]
     },
     "execution_count": 263,
     "metadata": {},
     "output_type": "execute_result"
    }
   ],
   "source": [
    "df.isnull().sum()"
   ]
  },
  {
   "cell_type": "code",
   "execution_count": 264,
   "metadata": {},
   "outputs": [],
   "source": [
    "#filling the eq_magnitude and ts_intensity fields with median\n",
    "for i in ['EQ_MAGNITUDE','TS_INTENSITY']:\n",
    "    df[i]=df[i].fillna(df[i].median())"
   ]
  },
  {
   "cell_type": "code",
   "execution_count": 265,
   "metadata": {},
   "outputs": [
    {
     "data": {
      "text/plain": [
       "YEAR              0\n",
       "MONTH             0\n",
       "DAY               0\n",
       "LATITUDE          0\n",
       "LONGITUDE         0\n",
       "LOCATION_NAME     0\n",
       "COUNTRY           0\n",
       "REGION            0\n",
       "CAUSE             0\n",
       "EVENT_VALIDITY    0\n",
       "EQ_MAGNITUDE      0\n",
       "EQ_DEPTH          0\n",
       "TS_INTENSITY      0\n",
       "dtype: int64"
      ]
     },
     "execution_count": 265,
     "metadata": {},
     "output_type": "execute_result"
    }
   ],
   "source": [
    "df.isnull().sum()"
   ]
  },
  {
   "cell_type": "markdown",
   "metadata": {},
   "source": [
    "Null values are handled in all fields"
   ]
  },
  {
   "cell_type": "markdown",
   "metadata": {},
   "source": [
    "### Feature Engineering and Feature reduction "
   ]
  },
  {
   "cell_type": "code",
   "execution_count": 266,
   "metadata": {},
   "outputs": [
    {
     "data": {
      "text/plain": [
       "<matplotlib.axes._subplots.AxesSubplot at 0x1ca874f0c70>"
      ]
     },
     "execution_count": 266,
     "metadata": {},
     "output_type": "execute_result"
    },
    {
     "data": {
      "image/png": "[encoded data removed]",
      "text/plain": [
       "<Figure size 1152x360 with 1 Axes>"
      ]
     },
     "metadata": {
      "needs_background": "light"
     },
     "output_type": "display_data"
    }
   ],
   "source": [
    "# Plotting the data using boxplots\n",
    "plt.figure(figsize=(16,5))\n",
    "sns.boxplot(data=df)"
   ]
  },
  {
   "cell_type": "markdown",
   "metadata": {},
   "source": [
    "We can see some negative abrupt values in the year field, so filtering the data from the datset from 17th century onwards"
   ]
  },
  {
   "cell_type": "code",
   "execution_count": 267,
   "metadata": {},
   "outputs": [],
   "source": [
    "df=df[df.YEAR>=1600]"
   ]
  },
  {
   "cell_type": "code",
   "execution_count": 268,
   "metadata": {},
   "outputs": [
    {
     "data": {
      "text/plain": [
       "(1866, 13)"
      ]
     },
     "execution_count": 268,
     "metadata": {},
     "output_type": "execute_result"
    }
   ],
   "source": [
    "df.shape"
   ]
  },
  {
   "cell_type": "code",
   "execution_count": 269,
   "metadata": {},
   "outputs": [
    {
     "data": {
      "text/html": [
       "<div>\n",
       "<style scoped>\n",
       "    .dataframe tbody tr th:only-of-type {\n",
       "        vertical-align: middle;\n",
       "    }\n",
       "\n",
       "    .dataframe tbody tr th {\n",
       "        vertical-align: top;\n",
       "    }\n",
       "\n",
       "    .dataframe thead th {\n",
       "        text-align: right;\n",
       "    }\n",
       "</style>\n",
       "<table border=\"1\" class=\"dataframe\">\n",
       "  <thead>\n",
       "    <tr style=\"text-align: right;\">\n",
       "      <th></th>\n",
       "      <th>YEAR</th>\n",
       "      <th>MONTH</th>\n",
       "      <th>DAY</th>\n",
       "      <th>LATITUDE</th>\n",
       "      <th>LONGITUDE</th>\n",
       "      <th>LOCATION_NAME</th>\n",
       "      <th>COUNTRY</th>\n",
       "      <th>REGION</th>\n",
       "      <th>CAUSE</th>\n",
       "      <th>EVENT_VALIDITY</th>\n",
       "      <th>EQ_MAGNITUDE</th>\n",
       "      <th>EQ_DEPTH</th>\n",
       "      <th>TS_INTENSITY</th>\n",
       "    </tr>\n",
       "  </thead>\n",
       "  <tbody>\n",
       "    <tr>\n",
       "      <th>5</th>\n",
       "      <td>1747</td>\n",
       "      <td>3.0</td>\n",
       "      <td>1.0</td>\n",
       "      <td>33.100</td>\n",
       "      <td>139.800</td>\n",
       "      <td>IZU PENINSULA, HACHIJO ISLAND</td>\n",
       "      <td>JAPAN</td>\n",
       "      <td>Japan</td>\n",
       "      <td>Unknown</td>\n",
       "      <td>Questionable Tsunami</td>\n",
       "      <td>7.1</td>\n",
       "      <td>0.0</td>\n",
       "      <td>0.5</td>\n",
       "    </tr>\n",
       "    <tr>\n",
       "      <th>6</th>\n",
       "      <td>1704</td>\n",
       "      <td>8.0</td>\n",
       "      <td>1.0</td>\n",
       "      <td>33.600</td>\n",
       "      <td>136.000</td>\n",
       "      <td>TAIJI, KII</td>\n",
       "      <td>JAPAN</td>\n",
       "      <td>Japan</td>\n",
       "      <td>Unknown</td>\n",
       "      <td>Questionable Tsunami</td>\n",
       "      <td>7.1</td>\n",
       "      <td>0.0</td>\n",
       "      <td>1.0</td>\n",
       "    </tr>\n",
       "    <tr>\n",
       "      <th>9</th>\n",
       "      <td>1650</td>\n",
       "      <td>9.0</td>\n",
       "      <td>29.0</td>\n",
       "      <td>36.404</td>\n",
       "      <td>25.396</td>\n",
       "      <td>THERA ISLAND (SANTORINI)</td>\n",
       "      <td>GREECE</td>\n",
       "      <td>Mediterranean Sea</td>\n",
       "      <td>Volcano and Landslide</td>\n",
       "      <td>Definite Tsunami</td>\n",
       "      <td>6.3</td>\n",
       "      <td>0.0</td>\n",
       "      <td>6.0</td>\n",
       "    </tr>\n",
       "    <tr>\n",
       "      <th>11</th>\n",
       "      <td>1676</td>\n",
       "      <td>8.0</td>\n",
       "      <td>1.0</td>\n",
       "      <td>38.733</td>\n",
       "      <td>-27.066</td>\n",
       "      <td>AZORES</td>\n",
       "      <td>PORTUGAL</td>\n",
       "      <td>Northeast Atlantic Ocean</td>\n",
       "      <td>Earthquake</td>\n",
       "      <td>Very Doubtful Tsunami</td>\n",
       "      <td>7.1</td>\n",
       "      <td>0.0</td>\n",
       "      <td>1.0</td>\n",
       "    </tr>\n",
       "    <tr>\n",
       "      <th>15</th>\n",
       "      <td>1636</td>\n",
       "      <td>7.0</td>\n",
       "      <td>31.0</td>\n",
       "      <td>35.100</td>\n",
       "      <td>129.050</td>\n",
       "      <td>E. CHINA SEA-S.JAPAN</td>\n",
       "      <td>EAST CHINA SEA</td>\n",
       "      <td>China, North and South Korea, Philippines, Taiwan</td>\n",
       "      <td>Unknown</td>\n",
       "      <td>Very Doubtful Tsunami</td>\n",
       "      <td>7.1</td>\n",
       "      <td>0.0</td>\n",
       "      <td>0.0</td>\n",
       "    </tr>\n",
       "  </tbody>\n",
       "</table>\n",
       "</div>"
      ],
      "text/plain": [
       "    YEAR  MONTH   DAY  LATITUDE  LONGITUDE                  LOCATION_NAME  \\\n",
       "5   1747    3.0   1.0    33.100    139.800  IZU PENINSULA, HACHIJO ISLAND   \n",
       "6   1704    8.0   1.0    33.600    136.000                     TAIJI, KII   \n",
       "9   1650    9.0  29.0    36.404     25.396       THERA ISLAND (SANTORINI)   \n",
       "11  1676    8.0   1.0    38.733    -27.066                         AZORES   \n",
       "15  1636    7.0  31.0    35.100    129.050           E. CHINA SEA-S.JAPAN   \n",
       "\n",
       "           COUNTRY                                             REGION  \\\n",
       "5            JAPAN                                              Japan   \n",
       "6            JAPAN                                              Japan   \n",
       "9           GREECE                                  Mediterranean Sea   \n",
       "11        PORTUGAL                           Northeast Atlantic Ocean   \n",
       "15  EAST CHINA SEA  China, North and South Korea, Philippines, Taiwan   \n",
       "\n",
       "                    CAUSE         EVENT_VALIDITY  EQ_MAGNITUDE  EQ_DEPTH  \\\n",
       "5                 Unknown   Questionable Tsunami           7.1       0.0   \n",
       "6                 Unknown   Questionable Tsunami           7.1       0.0   \n",
       "9   Volcano and Landslide       Definite Tsunami           6.3       0.0   \n",
       "11             Earthquake  Very Doubtful Tsunami           7.1       0.0   \n",
       "15                Unknown  Very Doubtful Tsunami           7.1       0.0   \n",
       "\n",
       "    TS_INTENSITY  \n",
       "5            0.5  \n",
       "6            1.0  \n",
       "9            6.0  \n",
       "11           1.0  \n",
       "15           0.0  "
      ]
     },
     "execution_count": 269,
     "metadata": {},
     "output_type": "execute_result"
    }
   ],
   "source": [
    "df.head()"
   ]
  },
  {
   "cell_type": "code",
   "execution_count": 270,
   "metadata": {},
   "outputs": [],
   "source": [
    "#COnverting YEAR,MONTH and DAY into int\n",
    "for i in ['DAY','MONTH','YEAR']:\n",
    "    df[i] =  df[i].astype(int) \n"
   ]
  },
  {
   "cell_type": "code",
   "execution_count": 271,
   "metadata": {},
   "outputs": [],
   "source": [
    "df_eda=df.copy()"
   ]
  },
  {
   "cell_type": "code",
   "execution_count": 272,
   "metadata": {},
   "outputs": [],
   "source": [
    "#concatenating day,month and year fields to a single field called DATE\n",
    "df['DATE'] = df['DAY'].map(str) + '-' + df['MONTH'].map(str) + '-' + df['YEAR'].map(str)"
   ]
  },
  {
   "cell_type": "code",
   "execution_count": 273,
   "metadata": {},
   "outputs": [],
   "source": [
    "#dropping YEAR,MONTH and DATE fields\n",
    "df.drop(['DAY','MONTH','YEAR'],axis=1,inplace=True)"
   ]
  },
  {
   "cell_type": "code",
   "execution_count": 274,
   "metadata": {},
   "outputs": [
    {
     "data": {
      "text/plain": [
       "(1866, 11)"
      ]
     },
     "execution_count": 274,
     "metadata": {},
     "output_type": "execute_result"
    }
   ],
   "source": [
    "df.shape"
   ]
  },
  {
   "cell_type": "markdown",
   "metadata": {},
   "source": [
    "### Checking for outliers and handling outliers"
   ]
  },
  {
   "cell_type": "code",
   "execution_count": 275,
   "metadata": {},
   "outputs": [
    {
     "data": {
      "text/plain": [
       "<matplotlib.axes._subplots.AxesSubplot at 0x1ca872249a0>"
      ]
     },
     "execution_count": 275,
     "metadata": {},
     "output_type": "execute_result"
    },
    {
     "data": {
      "image/png": "[encoded data removed]",
      "text/plain": [
       "<Figure size 1440x360 with 1 Axes>"
      ]
     },
     "metadata": {
      "needs_background": "light"
     },
     "output_type": "display_data"
    }
   ],
   "source": [
    "# checking whether there is any outliers present in the dataset for any feature\n",
    "plt.figure(figsize=(20,5))\n",
    "sns.boxplot(data=df)"
   ]
  },
  {
   "cell_type": "markdown",
   "metadata": {},
   "source": [
    "We could see outliers are present in LATITUDE and EQ_DEPTH columns"
   ]
  },
  {
   "cell_type": "code",
   "execution_count": 276,
   "metadata": {},
   "outputs": [
    {
     "name": "stdout",
     "output_type": "stream",
     "text": [
      "Lower limit is : -71.35\n",
      "Upper limit is : 104.25\n"
     ]
    }
   ],
   "source": [
    "#Handling outlier in LATITUDE field\n",
    "Q1=np.percentile(df['LATITUDE'],25)\n",
    "Q2=np.percentile(df['LATITUDE'],50)\n",
    "Q3=np.percentile(df['LATITUDE'],75)\n",
    "\n",
    "IQR = Q3-Q1\n",
    "\n",
    "UL = Q3 + 1.5 * IQR\n",
    "LL = Q1 - 1.5 * IQR\n",
    "\n",
    "print('Lower limit is :',LL)\n",
    "print('Upper limit is :',UL)"
   ]
  },
  {
   "cell_type": "code",
   "execution_count": 277,
   "metadata": {},
   "outputs": [],
   "source": [
    "outlier = []\n",
    "for i in df['LATITUDE']:\n",
    "    if ((i>UL) | (i<LL)):\n",
    "        outlier.append(i)"
   ]
  },
  {
   "cell_type": "code",
   "execution_count": 278,
   "metadata": {},
   "outputs": [
    {
     "data": {
      "text/plain": [
       "[138.11700000000002, 139.033, 142.467]"
      ]
     },
     "execution_count": 278,
     "metadata": {},
     "output_type": "execute_result"
    }
   ],
   "source": [
    "outlier"
   ]
  },
  {
   "cell_type": "code",
   "execution_count": 279,
   "metadata": {},
   "outputs": [],
   "source": [
    "#all outliers are above Upper limit\n",
    "ind = df[(df['LATITUDE'] > UL)]\n",
    "df.drop(ind.index,inplace=True)"
   ]
  },
  {
   "cell_type": "code",
   "execution_count": 280,
   "metadata": {},
   "outputs": [
    {
     "name": "stdout",
     "output_type": "stream",
     "text": [
      "Lower limit is : -45.0\n",
      "Upper limit is : 75.0\n"
     ]
    }
   ],
   "source": [
    "#Handling outliers in EQ_DEPTH field\n",
    "Q1=np.percentile(df['EQ_DEPTH'],25)\n",
    "Q2=np.percentile(df['EQ_DEPTH'],50)\n",
    "Q3=np.percentile(df['EQ_DEPTH'],75)\n",
    "\n",
    "IQR = Q3-Q1\n",
    "\n",
    "UL = Q3 + 1.5 * IQR\n",
    "LL = Q1 - 1.5 * IQR\n",
    "\n",
    "print('Lower limit is :',LL)\n",
    "print('Upper limit is :',UL)"
   ]
  },
  {
   "cell_type": "code",
   "execution_count": 281,
   "metadata": {},
   "outputs": [],
   "source": [
    "outlier1 = []\n",
    "for i in df['EQ_DEPTH']:\n",
    "    if ((i>UL) | (i<LL)):\n",
    "        outlier.append(i)"
   ]
  },
  {
   "cell_type": "code",
   "execution_count": 282,
   "metadata": {},
   "outputs": [],
   "source": [
    "ind = df[(df['EQ_DEPTH'] < LL) | (df['EQ_DEPTH'] > UL)]\n",
    "df.drop(ind.index,inplace=True)"
   ]
  },
  {
   "cell_type": "code",
   "execution_count": 283,
   "metadata": {},
   "outputs": [
    {
     "data": {
      "text/plain": [
       "<matplotlib.axes._subplots.AxesSubplot at 0x1ca823a7d60>"
      ]
     },
     "execution_count": 283,
     "metadata": {},
     "output_type": "execute_result"
    },
    {
     "data": {
      "image/png": "[encoded data removed]",
      "text/plain": [
       "<Figure size 1440x360 with 1 Axes>"
      ]
     },
     "metadata": {
      "needs_background": "light"
     },
     "output_type": "display_data"
    }
   ],
   "source": [
    "# replotting the boxplot to check whether outliers are handled\n",
    "plt.figure(figsize=(20,5))\n",
    "sns.boxplot(data=df)"
   ]
  },
  {
   "cell_type": "code",
   "execution_count": 284,
   "metadata": {},
   "outputs": [
    {
     "data": {
      "text/plain": [
       "(1800, 11)"
      ]
     },
     "execution_count": 284,
     "metadata": {},
     "output_type": "execute_result"
    }
   ],
   "source": [
    "df.shape"
   ]
  },
  {
   "cell_type": "code",
   "execution_count": 285,
   "metadata": {},
   "outputs": [
    {
     "data": {
      "text/html": [
       "<div>\n",
       "<style scoped>\n",
       "    .dataframe tbody tr th:only-of-type {\n",
       "        vertical-align: middle;\n",
       "    }\n",
       "\n",
       "    .dataframe tbody tr th {\n",
       "        vertical-align: top;\n",
       "    }\n",
       "\n",
       "    .dataframe thead th {\n",
       "        text-align: right;\n",
       "    }\n",
       "</style>\n",
       "<table border=\"1\" class=\"dataframe\">\n",
       "  <thead>\n",
       "    <tr style=\"text-align: right;\">\n",
       "      <th></th>\n",
       "      <th>LATITUDE</th>\n",
       "      <th>LONGITUDE</th>\n",
       "      <th>LOCATION_NAME</th>\n",
       "      <th>COUNTRY</th>\n",
       "      <th>REGION</th>\n",
       "      <th>CAUSE</th>\n",
       "      <th>EVENT_VALIDITY</th>\n",
       "      <th>EQ_MAGNITUDE</th>\n",
       "      <th>EQ_DEPTH</th>\n",
       "      <th>TS_INTENSITY</th>\n",
       "      <th>DATE</th>\n",
       "    </tr>\n",
       "  </thead>\n",
       "  <tbody>\n",
       "    <tr>\n",
       "      <th>5</th>\n",
       "      <td>33.100</td>\n",
       "      <td>139.800</td>\n",
       "      <td>IZU PENINSULA, HACHIJO ISLAND</td>\n",
       "      <td>JAPAN</td>\n",
       "      <td>Japan</td>\n",
       "      <td>Unknown</td>\n",
       "      <td>Questionable Tsunami</td>\n",
       "      <td>7.1</td>\n",
       "      <td>0.0</td>\n",
       "      <td>0.5</td>\n",
       "      <td>1-3-1747</td>\n",
       "    </tr>\n",
       "    <tr>\n",
       "      <th>6</th>\n",
       "      <td>33.600</td>\n",
       "      <td>136.000</td>\n",
       "      <td>TAIJI, KII</td>\n",
       "      <td>JAPAN</td>\n",
       "      <td>Japan</td>\n",
       "      <td>Unknown</td>\n",
       "      <td>Questionable Tsunami</td>\n",
       "      <td>7.1</td>\n",
       "      <td>0.0</td>\n",
       "      <td>1.0</td>\n",
       "      <td>1-8-1704</td>\n",
       "    </tr>\n",
       "    <tr>\n",
       "      <th>9</th>\n",
       "      <td>36.404</td>\n",
       "      <td>25.396</td>\n",
       "      <td>THERA ISLAND (SANTORINI)</td>\n",
       "      <td>GREECE</td>\n",
       "      <td>Mediterranean Sea</td>\n",
       "      <td>Volcano and Landslide</td>\n",
       "      <td>Definite Tsunami</td>\n",
       "      <td>6.3</td>\n",
       "      <td>0.0</td>\n",
       "      <td>6.0</td>\n",
       "      <td>29-9-1650</td>\n",
       "    </tr>\n",
       "    <tr>\n",
       "      <th>11</th>\n",
       "      <td>38.733</td>\n",
       "      <td>-27.066</td>\n",
       "      <td>AZORES</td>\n",
       "      <td>PORTUGAL</td>\n",
       "      <td>Northeast Atlantic Ocean</td>\n",
       "      <td>Earthquake</td>\n",
       "      <td>Very Doubtful Tsunami</td>\n",
       "      <td>7.1</td>\n",
       "      <td>0.0</td>\n",
       "      <td>1.0</td>\n",
       "      <td>1-8-1676</td>\n",
       "    </tr>\n",
       "    <tr>\n",
       "      <th>15</th>\n",
       "      <td>35.100</td>\n",
       "      <td>129.050</td>\n",
       "      <td>E. CHINA SEA-S.JAPAN</td>\n",
       "      <td>EAST CHINA SEA</td>\n",
       "      <td>China, North and South Korea, Philippines, Taiwan</td>\n",
       "      <td>Unknown</td>\n",
       "      <td>Very Doubtful Tsunami</td>\n",
       "      <td>7.1</td>\n",
       "      <td>0.0</td>\n",
       "      <td>0.0</td>\n",
       "      <td>31-7-1636</td>\n",
       "    </tr>\n",
       "  </tbody>\n",
       "</table>\n",
       "</div>"
      ],
      "text/plain": [
       "    LATITUDE  LONGITUDE                  LOCATION_NAME         COUNTRY  \\\n",
       "5     33.100    139.800  IZU PENINSULA, HACHIJO ISLAND           JAPAN   \n",
       "6     33.600    136.000                     TAIJI, KII           JAPAN   \n",
       "9     36.404     25.396       THERA ISLAND (SANTORINI)          GREECE   \n",
       "11    38.733    -27.066                         AZORES        PORTUGAL   \n",
       "15    35.100    129.050           E. CHINA SEA-S.JAPAN  EAST CHINA SEA   \n",
       "\n",
       "                                               REGION                  CAUSE  \\\n",
       "5                                               Japan                Unknown   \n",
       "6                                               Japan                Unknown   \n",
       "9                                   Mediterranean Sea  Volcano and Landslide   \n",
       "11                           Northeast Atlantic Ocean             Earthquake   \n",
       "15  China, North and South Korea, Philippines, Taiwan                Unknown   \n",
       "\n",
       "           EVENT_VALIDITY  EQ_MAGNITUDE  EQ_DEPTH  TS_INTENSITY       DATE  \n",
       "5    Questionable Tsunami           7.1       0.0           0.5   1-3-1747  \n",
       "6    Questionable Tsunami           7.1       0.0           1.0   1-8-1704  \n",
       "9        Definite Tsunami           6.3       0.0           6.0  29-9-1650  \n",
       "11  Very Doubtful Tsunami           7.1       0.0           1.0   1-8-1676  \n",
       "15  Very Doubtful Tsunami           7.1       0.0           0.0  31-7-1636  "
      ]
     },
     "execution_count": 285,
     "metadata": {},
     "output_type": "execute_result"
    }
   ],
   "source": [
    "df.head()"
   ]
  },
  {
   "cell_type": "code",
   "execution_count": null,
   "metadata": {},
   "outputs": [],
   "source": []
  },
  {
   "cell_type": "code",
   "execution_count": 286,
   "metadata": {},
   "outputs": [
    {
     "data": {
      "text/plain": [
       "(1866, 13)"
      ]
     },
     "execution_count": 286,
     "metadata": {},
     "output_type": "execute_result"
    }
   ],
   "source": [
    "df_eda.shape"
   ]
  },
  {
   "cell_type": "markdown",
   "metadata": {},
   "source": [
    "### Feature reduction"
   ]
  },
  {
   "cell_type": "code",
   "execution_count": 287,
   "metadata": {},
   "outputs": [
    {
     "data": {
      "text/plain": [
       "1752"
      ]
     },
     "execution_count": 287,
     "metadata": {},
     "output_type": "execute_result"
    }
   ],
   "source": [
    "df['DATE'].nunique()"
   ]
  },
  {
   "cell_type": "code",
   "execution_count": 288,
   "metadata": {},
   "outputs": [],
   "source": [
    "#date fields are having unique values in almost all rows, so dropping the date field\n",
    "df.drop('DATE',axis=1,inplace=True)"
   ]
  },
  {
   "cell_type": "code",
   "execution_count": 289,
   "metadata": {},
   "outputs": [
    {
     "data": {
      "text/html": [
       "<div>\n",
       "<style scoped>\n",
       "    .dataframe tbody tr th:only-of-type {\n",
       "        vertical-align: middle;\n",
       "    }\n",
       "\n",
       "    .dataframe tbody tr th {\n",
       "        vertical-align: top;\n",
       "    }\n",
       "\n",
       "    .dataframe thead th {\n",
       "        text-align: right;\n",
       "    }\n",
       "</style>\n",
       "<table border=\"1\" class=\"dataframe\">\n",
       "  <thead>\n",
       "    <tr style=\"text-align: right;\">\n",
       "      <th></th>\n",
       "      <th>LATITUDE</th>\n",
       "      <th>LONGITUDE</th>\n",
       "      <th>LOCATION_NAME</th>\n",
       "      <th>COUNTRY</th>\n",
       "      <th>REGION</th>\n",
       "      <th>CAUSE</th>\n",
       "      <th>EVENT_VALIDITY</th>\n",
       "      <th>EQ_MAGNITUDE</th>\n",
       "      <th>EQ_DEPTH</th>\n",
       "      <th>TS_INTENSITY</th>\n",
       "    </tr>\n",
       "  </thead>\n",
       "  <tbody>\n",
       "    <tr>\n",
       "      <th>5</th>\n",
       "      <td>33.1</td>\n",
       "      <td>139.8</td>\n",
       "      <td>IZU PENINSULA, HACHIJO ISLAND</td>\n",
       "      <td>JAPAN</td>\n",
       "      <td>Japan</td>\n",
       "      <td>Unknown</td>\n",
       "      <td>Questionable Tsunami</td>\n",
       "      <td>7.1</td>\n",
       "      <td>0.0</td>\n",
       "      <td>0.5</td>\n",
       "    </tr>\n",
       "    <tr>\n",
       "      <th>6</th>\n",
       "      <td>33.6</td>\n",
       "      <td>136.0</td>\n",
       "      <td>TAIJI, KII</td>\n",
       "      <td>JAPAN</td>\n",
       "      <td>Japan</td>\n",
       "      <td>Unknown</td>\n",
       "      <td>Questionable Tsunami</td>\n",
       "      <td>7.1</td>\n",
       "      <td>0.0</td>\n",
       "      <td>1.0</td>\n",
       "    </tr>\n",
       "  </tbody>\n",
       "</table>\n",
       "</div>"
      ],
      "text/plain": [
       "   LATITUDE  LONGITUDE                  LOCATION_NAME COUNTRY REGION    CAUSE  \\\n",
       "5      33.1      139.8  IZU PENINSULA, HACHIJO ISLAND   JAPAN  Japan  Unknown   \n",
       "6      33.6      136.0                     TAIJI, KII   JAPAN  Japan  Unknown   \n",
       "\n",
       "         EVENT_VALIDITY  EQ_MAGNITUDE  EQ_DEPTH  TS_INTENSITY  \n",
       "5  Questionable Tsunami           7.1       0.0           0.5  \n",
       "6  Questionable Tsunami           7.1       0.0           1.0  "
      ]
     },
     "execution_count": 289,
     "metadata": {},
     "output_type": "execute_result"
    }
   ],
   "source": [
    "df.head(2)"
   ]
  },
  {
   "cell_type": "code",
   "execution_count": 290,
   "metadata": {},
   "outputs": [],
   "source": [
    "#Since latitude and longitude are given, location_name,country and region can be dropped\n",
    "df.drop(['LOCATION_NAME','COUNTRY','REGION'],axis=1,inplace=True)"
   ]
  },
  {
   "cell_type": "code",
   "execution_count": 291,
   "metadata": {},
   "outputs": [
    {
     "data": {
      "text/plain": [
       "(1800, 7)"
      ]
     },
     "execution_count": 291,
     "metadata": {},
     "output_type": "execute_result"
    }
   ],
   "source": [
    "df.shape"
   ]
  },
  {
   "cell_type": "code",
   "execution_count": 292,
   "metadata": {},
   "outputs": [
    {
     "data": {
      "text/html": [
       "<div>\n",
       "<style scoped>\n",
       "    .dataframe tbody tr th:only-of-type {\n",
       "        vertical-align: middle;\n",
       "    }\n",
       "\n",
       "    .dataframe tbody tr th {\n",
       "        vertical-align: top;\n",
       "    }\n",
       "\n",
       "    .dataframe thead th {\n",
       "        text-align: right;\n",
       "    }\n",
       "</style>\n",
       "<table border=\"1\" class=\"dataframe\">\n",
       "  <thead>\n",
       "    <tr style=\"text-align: right;\">\n",
       "      <th></th>\n",
       "      <th>LATITUDE</th>\n",
       "      <th>LONGITUDE</th>\n",
       "      <th>CAUSE</th>\n",
       "      <th>EVENT_VALIDITY</th>\n",
       "      <th>EQ_MAGNITUDE</th>\n",
       "      <th>EQ_DEPTH</th>\n",
       "      <th>TS_INTENSITY</th>\n",
       "    </tr>\n",
       "  </thead>\n",
       "  <tbody>\n",
       "    <tr>\n",
       "      <th>5</th>\n",
       "      <td>33.100</td>\n",
       "      <td>139.800</td>\n",
       "      <td>Unknown</td>\n",
       "      <td>Questionable Tsunami</td>\n",
       "      <td>7.1</td>\n",
       "      <td>0.0</td>\n",
       "      <td>0.5</td>\n",
       "    </tr>\n",
       "    <tr>\n",
       "      <th>6</th>\n",
       "      <td>33.600</td>\n",
       "      <td>136.000</td>\n",
       "      <td>Unknown</td>\n",
       "      <td>Questionable Tsunami</td>\n",
       "      <td>7.1</td>\n",
       "      <td>0.0</td>\n",
       "      <td>1.0</td>\n",
       "    </tr>\n",
       "    <tr>\n",
       "      <th>9</th>\n",
       "      <td>36.404</td>\n",
       "      <td>25.396</td>\n",
       "      <td>Volcano and Landslide</td>\n",
       "      <td>Definite Tsunami</td>\n",
       "      <td>6.3</td>\n",
       "      <td>0.0</td>\n",
       "      <td>6.0</td>\n",
       "    </tr>\n",
       "    <tr>\n",
       "      <th>11</th>\n",
       "      <td>38.733</td>\n",
       "      <td>-27.066</td>\n",
       "      <td>Earthquake</td>\n",
       "      <td>Very Doubtful Tsunami</td>\n",
       "      <td>7.1</td>\n",
       "      <td>0.0</td>\n",
       "      <td>1.0</td>\n",
       "    </tr>\n",
       "    <tr>\n",
       "      <th>15</th>\n",
       "      <td>35.100</td>\n",
       "      <td>129.050</td>\n",
       "      <td>Unknown</td>\n",
       "      <td>Very Doubtful Tsunami</td>\n",
       "      <td>7.1</td>\n",
       "      <td>0.0</td>\n",
       "      <td>0.0</td>\n",
       "    </tr>\n",
       "  </tbody>\n",
       "</table>\n",
       "</div>"
      ],
      "text/plain": [
       "    LATITUDE  LONGITUDE                  CAUSE         EVENT_VALIDITY  \\\n",
       "5     33.100    139.800                Unknown   Questionable Tsunami   \n",
       "6     33.600    136.000                Unknown   Questionable Tsunami   \n",
       "9     36.404     25.396  Volcano and Landslide       Definite Tsunami   \n",
       "11    38.733    -27.066             Earthquake  Very Doubtful Tsunami   \n",
       "15    35.100    129.050                Unknown  Very Doubtful Tsunami   \n",
       "\n",
       "    EQ_MAGNITUDE  EQ_DEPTH  TS_INTENSITY  \n",
       "5            7.1       0.0           0.5  \n",
       "6            7.1       0.0           1.0  \n",
       "9            6.3       0.0           6.0  \n",
       "11           7.1       0.0           1.0  \n",
       "15           7.1       0.0           0.0  "
      ]
     },
     "execution_count": 292,
     "metadata": {},
     "output_type": "execute_result"
    }
   ],
   "source": [
    "df.head()"
   ]
  },
  {
   "cell_type": "code",
   "execution_count": 293,
   "metadata": {},
   "outputs": [],
   "source": [
    "#resetting the index\n",
    "df = df.reset_index(drop=True)"
   ]
  },
  {
   "cell_type": "code",
   "execution_count": 294,
   "metadata": {},
   "outputs": [
    {
     "data": {
      "text/html": [
       "<div>\n",
       "<style scoped>\n",
       "    .dataframe tbody tr th:only-of-type {\n",
       "        vertical-align: middle;\n",
       "    }\n",
       "\n",
       "    .dataframe tbody tr th {\n",
       "        vertical-align: top;\n",
       "    }\n",
       "\n",
       "    .dataframe thead th {\n",
       "        text-align: right;\n",
       "    }\n",
       "</style>\n",
       "<table border=\"1\" class=\"dataframe\">\n",
       "  <thead>\n",
       "    <tr style=\"text-align: right;\">\n",
       "      <th></th>\n",
       "      <th>LATITUDE</th>\n",
       "      <th>LONGITUDE</th>\n",
       "      <th>CAUSE</th>\n",
       "      <th>EVENT_VALIDITY</th>\n",
       "      <th>EQ_MAGNITUDE</th>\n",
       "      <th>EQ_DEPTH</th>\n",
       "      <th>TS_INTENSITY</th>\n",
       "    </tr>\n",
       "  </thead>\n",
       "  <tbody>\n",
       "    <tr>\n",
       "      <th>0</th>\n",
       "      <td>33.100</td>\n",
       "      <td>139.800</td>\n",
       "      <td>Unknown</td>\n",
       "      <td>Questionable Tsunami</td>\n",
       "      <td>7.1</td>\n",
       "      <td>0.0</td>\n",
       "      <td>0.5</td>\n",
       "    </tr>\n",
       "    <tr>\n",
       "      <th>1</th>\n",
       "      <td>33.600</td>\n",
       "      <td>136.000</td>\n",
       "      <td>Unknown</td>\n",
       "      <td>Questionable Tsunami</td>\n",
       "      <td>7.1</td>\n",
       "      <td>0.0</td>\n",
       "      <td>1.0</td>\n",
       "    </tr>\n",
       "    <tr>\n",
       "      <th>2</th>\n",
       "      <td>36.404</td>\n",
       "      <td>25.396</td>\n",
       "      <td>Volcano and Landslide</td>\n",
       "      <td>Definite Tsunami</td>\n",
       "      <td>6.3</td>\n",
       "      <td>0.0</td>\n",
       "      <td>6.0</td>\n",
       "    </tr>\n",
       "    <tr>\n",
       "      <th>3</th>\n",
       "      <td>38.733</td>\n",
       "      <td>-27.066</td>\n",
       "      <td>Earthquake</td>\n",
       "      <td>Very Doubtful Tsunami</td>\n",
       "      <td>7.1</td>\n",
       "      <td>0.0</td>\n",
       "      <td>1.0</td>\n",
       "    </tr>\n",
       "    <tr>\n",
       "      <th>4</th>\n",
       "      <td>35.100</td>\n",
       "      <td>129.050</td>\n",
       "      <td>Unknown</td>\n",
       "      <td>Very Doubtful Tsunami</td>\n",
       "      <td>7.1</td>\n",
       "      <td>0.0</td>\n",
       "      <td>0.0</td>\n",
       "    </tr>\n",
       "  </tbody>\n",
       "</table>\n",
       "</div>"
      ],
      "text/plain": [
       "   LATITUDE  LONGITUDE                  CAUSE         EVENT_VALIDITY  \\\n",
       "0    33.100    139.800                Unknown   Questionable Tsunami   \n",
       "1    33.600    136.000                Unknown   Questionable Tsunami   \n",
       "2    36.404     25.396  Volcano and Landslide       Definite Tsunami   \n",
       "3    38.733    -27.066             Earthquake  Very Doubtful Tsunami   \n",
       "4    35.100    129.050                Unknown  Very Doubtful Tsunami   \n",
       "\n",
       "   EQ_MAGNITUDE  EQ_DEPTH  TS_INTENSITY  \n",
       "0           7.1       0.0           0.5  \n",
       "1           7.1       0.0           1.0  \n",
       "2           6.3       0.0           6.0  \n",
       "3           7.1       0.0           1.0  \n",
       "4           7.1       0.0           0.0  "
      ]
     },
     "execution_count": 294,
     "metadata": {},
     "output_type": "execute_result"
    }
   ],
   "source": [
    "df.head()"
   ]
  },
  {
   "cell_type": "markdown",
   "metadata": {},
   "source": [
    "### Encoding "
   ]
  },
  {
   "cell_type": "code",
   "execution_count": 295,
   "metadata": {},
   "outputs": [
    {
     "name": "stdout",
     "output_type": "stream",
     "text": [
      "<class 'pandas.core.frame.DataFrame'>\n",
      "RangeIndex: 1800 entries, 0 to 1799\n",
      "Data columns (total 7 columns):\n",
      " #   Column          Non-Null Count  Dtype  \n",
      "---  ------          --------------  -----  \n",
      " 0   LATITUDE        1800 non-null   float64\n",
      " 1   LONGITUDE       1800 non-null   float64\n",
      " 2   CAUSE           1800 non-null   object \n",
      " 3   EVENT_VALIDITY  1800 non-null   object \n",
      " 4   EQ_MAGNITUDE    1800 non-null   float64\n",
      " 5   EQ_DEPTH        1800 non-null   float64\n",
      " 6   TS_INTENSITY    1800 non-null   float64\n",
      "dtypes: float64(5), object(2)\n",
      "memory usage: 98.6+ KB\n"
     ]
    }
   ],
   "source": [
    "df.info()"
   ]
  },
  {
   "cell_type": "code",
   "execution_count": 296,
   "metadata": {},
   "outputs": [
    {
     "data": {
      "text/plain": [
       "Definite Tsunami                                                     860\n",
       "Questionable Tsunami                                                 328\n",
       "Probable Tsunami                                                     281\n",
       "Very Doubtful Tsunami                                                244\n",
       "Event that only caused a seiche or disturbance in an inland river     87\n",
       "Name: EVENT_VALIDITY, dtype: int64"
      ]
     },
     "execution_count": 296,
     "metadata": {},
     "output_type": "execute_result"
    }
   ],
   "source": [
    "#here we have to encode the EVENT_VALIDITY and CAUSE fields\n",
    "df['EVENT_VALIDITY'].value_counts()"
   ]
  },
  {
   "cell_type": "code",
   "execution_count": 297,
   "metadata": {},
   "outputs": [],
   "source": [
    "#encoding the EVENT_VALIDITY field with label encoder\n",
    "\n",
    "#importing the label encoder\n",
    "from sklearn.preprocessing import LabelEncoder\n",
    "en = LabelEncoder()\n",
    "df['EVENT_VALIDITY'] = en.fit_transform(df['EVENT_VALIDITY'])"
   ]
  },
  {
   "cell_type": "code",
   "execution_count": 298,
   "metadata": {},
   "outputs": [
    {
     "data": {
      "text/plain": [
       "0    860\n",
       "3    328\n",
       "2    281\n",
       "4    244\n",
       "1     87\n",
       "Name: EVENT_VALIDITY, dtype: int64"
      ]
     },
     "execution_count": 298,
     "metadata": {},
     "output_type": "execute_result"
    }
   ],
   "source": [
    "df['EVENT_VALIDITY'].value_counts()"
   ]
  },
  {
   "cell_type": "code",
   "execution_count": 299,
   "metadata": {},
   "outputs": [
    {
     "data": {
      "text/html": [
       "<div>\n",
       "<style scoped>\n",
       "    .dataframe tbody tr th:only-of-type {\n",
       "        vertical-align: middle;\n",
       "    }\n",
       "\n",
       "    .dataframe tbody tr th {\n",
       "        vertical-align: top;\n",
       "    }\n",
       "\n",
       "    .dataframe thead th {\n",
       "        text-align: right;\n",
       "    }\n",
       "</style>\n",
       "<table border=\"1\" class=\"dataframe\">\n",
       "  <thead>\n",
       "    <tr style=\"text-align: right;\">\n",
       "      <th></th>\n",
       "      <th>LATITUDE</th>\n",
       "      <th>LONGITUDE</th>\n",
       "      <th>CAUSE</th>\n",
       "      <th>EVENT_VALIDITY</th>\n",
       "      <th>EQ_MAGNITUDE</th>\n",
       "      <th>EQ_DEPTH</th>\n",
       "      <th>TS_INTENSITY</th>\n",
       "    </tr>\n",
       "  </thead>\n",
       "  <tbody>\n",
       "    <tr>\n",
       "      <th>0</th>\n",
       "      <td>33.100</td>\n",
       "      <td>139.800</td>\n",
       "      <td>Unknown</td>\n",
       "      <td>3</td>\n",
       "      <td>7.1</td>\n",
       "      <td>0.0</td>\n",
       "      <td>0.5</td>\n",
       "    </tr>\n",
       "    <tr>\n",
       "      <th>1</th>\n",
       "      <td>33.600</td>\n",
       "      <td>136.000</td>\n",
       "      <td>Unknown</td>\n",
       "      <td>3</td>\n",
       "      <td>7.1</td>\n",
       "      <td>0.0</td>\n",
       "      <td>1.0</td>\n",
       "    </tr>\n",
       "    <tr>\n",
       "      <th>2</th>\n",
       "      <td>36.404</td>\n",
       "      <td>25.396</td>\n",
       "      <td>Volcano and Landslide</td>\n",
       "      <td>0</td>\n",
       "      <td>6.3</td>\n",
       "      <td>0.0</td>\n",
       "      <td>6.0</td>\n",
       "    </tr>\n",
       "    <tr>\n",
       "      <th>3</th>\n",
       "      <td>38.733</td>\n",
       "      <td>-27.066</td>\n",
       "      <td>Earthquake</td>\n",
       "      <td>4</td>\n",
       "      <td>7.1</td>\n",
       "      <td>0.0</td>\n",
       "      <td>1.0</td>\n",
       "    </tr>\n",
       "    <tr>\n",
       "      <th>4</th>\n",
       "      <td>35.100</td>\n",
       "      <td>129.050</td>\n",
       "      <td>Unknown</td>\n",
       "      <td>4</td>\n",
       "      <td>7.1</td>\n",
       "      <td>0.0</td>\n",
       "      <td>0.0</td>\n",
       "    </tr>\n",
       "  </tbody>\n",
       "</table>\n",
       "</div>"
      ],
      "text/plain": [
       "   LATITUDE  LONGITUDE                  CAUSE  EVENT_VALIDITY  EQ_MAGNITUDE  \\\n",
       "0    33.100    139.800                Unknown               3           7.1   \n",
       "1    33.600    136.000                Unknown               3           7.1   \n",
       "2    36.404     25.396  Volcano and Landslide               0           6.3   \n",
       "3    38.733    -27.066             Earthquake               4           7.1   \n",
       "4    35.100    129.050                Unknown               4           7.1   \n",
       "\n",
       "   EQ_DEPTH  TS_INTENSITY  \n",
       "0       0.0           0.5  \n",
       "1       0.0           1.0  \n",
       "2       0.0           6.0  \n",
       "3       0.0           1.0  \n",
       "4       0.0           0.0  "
      ]
     },
     "execution_count": 299,
     "metadata": {},
     "output_type": "execute_result"
    }
   ],
   "source": [
    "df.head()"
   ]
  },
  {
   "cell_type": "code",
   "execution_count": 300,
   "metadata": {},
   "outputs": [
    {
     "data": {
      "text/plain": [
       "Earthquake                  1504\n",
       "Earthquake and Landslide      89\n",
       "Unknown                       71\n",
       "Volcano                       54\n",
       "Landslide                     48\n",
       "Meteorological                15\n",
       "Volcano and Earthquake        10\n",
       "Volcano and Landslide          8\n",
       "Questionable Earthquake        1\n",
       "Name: CAUSE, dtype: int64"
      ]
     },
     "execution_count": 300,
     "metadata": {},
     "output_type": "execute_result"
    }
   ],
   "source": [
    "#encoding the CAUSE field with \n",
    "df['CAUSE'].value_counts()"
   ]
  },
  {
   "cell_type": "code",
   "execution_count": 301,
   "metadata": {},
   "outputs": [],
   "source": [
    "#since the cause 'unknown' is present and in less number, we can filter the dataset\n",
    "df=df[df['CAUSE'] !='Unknown']"
   ]
  },
  {
   "cell_type": "code",
   "execution_count": 302,
   "metadata": {},
   "outputs": [
    {
     "data": {
      "text/plain": [
       "Earthquake                  1504\n",
       "Earthquake and Landslide      89\n",
       "Volcano                       54\n",
       "Landslide                     48\n",
       "Meteorological                15\n",
       "Volcano and Earthquake        10\n",
       "Volcano and Landslide          8\n",
       "Questionable Earthquake        1\n",
       "Name: CAUSE, dtype: int64"
      ]
     },
     "execution_count": 302,
     "metadata": {},
     "output_type": "execute_result"
    }
   ],
   "source": [
    "df['CAUSE'].value_counts()"
   ]
  },
  {
   "cell_type": "code",
   "execution_count": 303,
   "metadata": {},
   "outputs": [
    {
     "data": {
      "text/plain": [
       "(1729, 7)"
      ]
     },
     "execution_count": 303,
     "metadata": {},
     "output_type": "execute_result"
    }
   ],
   "source": [
    "df.shape"
   ]
  },
  {
   "cell_type": "code",
   "execution_count": 304,
   "metadata": {},
   "outputs": [],
   "source": [
    "#using label encoder for encoding the CAUSE field as the categories are more and one hot encoder takes more computational space\n",
    "le = LabelEncoder()\n",
    "df['CAUSE'] = en.fit_transform(df['CAUSE'])"
   ]
  },
  {
   "cell_type": "code",
   "execution_count": 305,
   "metadata": {},
   "outputs": [
    {
     "data": {
      "text/plain": [
       "0    1504\n",
       "1      89\n",
       "5      54\n",
       "2      48\n",
       "3      15\n",
       "6      10\n",
       "7       8\n",
       "4       1\n",
       "Name: CAUSE, dtype: int64"
      ]
     },
     "execution_count": 305,
     "metadata": {},
     "output_type": "execute_result"
    }
   ],
   "source": [
    "df['CAUSE'].value_counts()"
   ]
  },
  {
   "cell_type": "code",
   "execution_count": 306,
   "metadata": {},
   "outputs": [
    {
     "data": {
      "text/html": [
       "<div>\n",
       "<style scoped>\n",
       "    .dataframe tbody tr th:only-of-type {\n",
       "        vertical-align: middle;\n",
       "    }\n",
       "\n",
       "    .dataframe tbody tr th {\n",
       "        vertical-align: top;\n",
       "    }\n",
       "\n",
       "    .dataframe thead th {\n",
       "        text-align: right;\n",
       "    }\n",
       "</style>\n",
       "<table border=\"1\" class=\"dataframe\">\n",
       "  <thead>\n",
       "    <tr style=\"text-align: right;\">\n",
       "      <th></th>\n",
       "      <th>LATITUDE</th>\n",
       "      <th>LONGITUDE</th>\n",
       "      <th>CAUSE</th>\n",
       "      <th>EVENT_VALIDITY</th>\n",
       "      <th>EQ_MAGNITUDE</th>\n",
       "      <th>EQ_DEPTH</th>\n",
       "      <th>TS_INTENSITY</th>\n",
       "    </tr>\n",
       "  </thead>\n",
       "  <tbody>\n",
       "    <tr>\n",
       "      <th>2</th>\n",
       "      <td>36.404</td>\n",
       "      <td>25.396</td>\n",
       "      <td>7</td>\n",
       "      <td>0</td>\n",
       "      <td>6.3</td>\n",
       "      <td>0.0</td>\n",
       "      <td>6.0</td>\n",
       "    </tr>\n",
       "    <tr>\n",
       "      <th>3</th>\n",
       "      <td>38.733</td>\n",
       "      <td>-27.066</td>\n",
       "      <td>0</td>\n",
       "      <td>4</td>\n",
       "      <td>7.1</td>\n",
       "      <td>0.0</td>\n",
       "      <td>1.0</td>\n",
       "    </tr>\n",
       "    <tr>\n",
       "      <th>5</th>\n",
       "      <td>39.500</td>\n",
       "      <td>20.000</td>\n",
       "      <td>0</td>\n",
       "      <td>3</td>\n",
       "      <td>7.1</td>\n",
       "      <td>0.0</td>\n",
       "      <td>2.0</td>\n",
       "    </tr>\n",
       "    <tr>\n",
       "      <th>6</th>\n",
       "      <td>-6.174</td>\n",
       "      <td>106.829</td>\n",
       "      <td>0</td>\n",
       "      <td>4</td>\n",
       "      <td>7.1</td>\n",
       "      <td>0.0</td>\n",
       "      <td>0.0</td>\n",
       "    </tr>\n",
       "    <tr>\n",
       "      <th>7</th>\n",
       "      <td>-5.000</td>\n",
       "      <td>102.000</td>\n",
       "      <td>0</td>\n",
       "      <td>2</td>\n",
       "      <td>7.0</td>\n",
       "      <td>0.0</td>\n",
       "      <td>0.5</td>\n",
       "    </tr>\n",
       "  </tbody>\n",
       "</table>\n",
       "</div>"
      ],
      "text/plain": [
       "   LATITUDE  LONGITUDE  CAUSE  EVENT_VALIDITY  EQ_MAGNITUDE  EQ_DEPTH  \\\n",
       "2    36.404     25.396      7               0           6.3       0.0   \n",
       "3    38.733    -27.066      0               4           7.1       0.0   \n",
       "5    39.500     20.000      0               3           7.1       0.0   \n",
       "6    -6.174    106.829      0               4           7.1       0.0   \n",
       "7    -5.000    102.000      0               2           7.0       0.0   \n",
       "\n",
       "   TS_INTENSITY  \n",
       "2           6.0  \n",
       "3           1.0  \n",
       "5           2.0  \n",
       "6           0.0  \n",
       "7           0.5  "
      ]
     },
     "execution_count": 306,
     "metadata": {},
     "output_type": "execute_result"
    }
   ],
   "source": [
    "df.head()"
   ]
  },
  {
   "cell_type": "markdown",
   "metadata": {},
   "source": [
    "Standardization/Normalization will be done after splitting dataset into X and Y train and test"
   ]
  },
  {
   "cell_type": "markdown",
   "metadata": {},
   "source": [
    "### Exploratory data analysis"
   ]
  },
  {
   "cell_type": "markdown",
   "metadata": {},
   "source": [
    "#### Univariate analysis"
   ]
  },
  {
   "cell_type": "markdown",
   "metadata": {},
   "source": [
    "Analysing the data in individual features "
   ]
  },
  {
   "cell_type": "code",
   "execution_count": 307,
   "metadata": {},
   "outputs": [
    {
     "data": {
      "image/png": "[encoded data removed]",
      "text/plain": [
       "<Figure size 1440x360 with 3 Axes>"
      ]
     },
     "metadata": {
      "needs_background": "light"
     },
     "output_type": "display_data"
    }
   ],
   "source": [
    "#using the copied dataset df_eda in exploratory analysis\n",
    "import warnings\n",
    "warnings.filterwarnings('ignore')\n",
    "\n",
    "#plotting the distribution and skewness of EQ_MAGNITUDE,EQ_DEPTH,TS_INTENSITY features\n",
    "\n",
    "plt.figure(figsize=(20,5))\n",
    "plt.subplot(131)\n",
    "sns.distplot(df_eda['EQ_MAGNITUDE'],label='skew: '+ str(np.round(df_eda['EQ_MAGNITUDE'].skew(),2)))\n",
    "plt.legend()\n",
    "plt.subplot(132)\n",
    "sns.distplot(df_eda['EQ_DEPTH'],label='skew: '+ str(np.round(df_eda['EQ_DEPTH'].skew(),2)))\n",
    "plt.legend()\n",
    "plt.subplot(133)\n",
    "sns.distplot(df_eda['TS_INTENSITY'],label='skew: '+ str(np.round(df_eda['TS_INTENSITY'].skew(),2)))\n",
    "plt.legend()\n",
    "plt.show()"
   ]
  },
  {
   "cell_type": "code",
   "execution_count": 308,
   "metadata": {},
   "outputs": [
    {
     "data": {
      "image/png": "[encoded data removed]",
      "text/plain": [
       "<Figure size 432x576 with 1 Axes>"
      ]
     },
     "metadata": {
      "needs_background": "light"
     },
     "output_type": "display_data"
    }
   ],
   "source": [
    "#plotting the number of Tsunamis occured due to different cause\n",
    "plt.figure(figsize=(6,8))\n",
    "ax = sns.countplot(y=\"CAUSE\", data=df_eda, order=df_eda[\"CAUSE\"].value_counts().index)\n",
    "ax.set_xscale(\"log\")\n",
    "ax.axes.set_title(\"Cause vs. # Tsunamis (Log Scale)\",fontsize=18)\n",
    "ax.set_xlabel(\"Number of Tsunamis (Log Scale)\",fontsize=16)\n",
    "ax.set_ylabel(\"Cause\",fontsize=16)\n",
    "ax.tick_params(labelsize=12)\n",
    "plt.show()"
   ]
  },
  {
   "cell_type": "code",
   "execution_count": 309,
   "metadata": {},
   "outputs": [
    {
     "data": {
      "image/png": "[encoded data removed]",
      "text/plain": [
       "<Figure size 864x1728 with 1 Axes>"
      ]
     },
     "metadata": {
      "needs_background": "light"
     },
     "output_type": "display_data"
    }
   ],
   "source": [
    "#plotting the number of Tsunamis occured in different countries\n",
    "plt.figure(figsize=(12,24))\n",
    "ax = sns.countplot(y=\"COUNTRY\", data=df_eda, order=df_eda[\"COUNTRY\"].value_counts().index)\n",
    "ax.set_xscale(\"log\")\n",
    "ax.axes.set_title(\"Country vs. # Tsunamis (Log Scale)\",fontsize=18)\n",
    "ax.set_xlabel(\"Number of Tsunamis (Log Scale)\",fontsize=16)\n",
    "ax.set_ylabel(\"Country\",fontsize=16)\n",
    "ax.tick_params(labelsize=12)\n",
    "plt.tight_layout()\n",
    "plt.show()"
   ]
  },
  {
   "cell_type": "code",
   "execution_count": 311,
   "metadata": {},
   "outputs": [
    {
     "data": {
      "image/png": "[encoded data removed]",
      "text/plain": [
       "<Figure size 432x288 with 1 Axes>"
      ]
     },
     "metadata": {
      "needs_background": "light"
     },
     "output_type": "display_data"
    }
   ],
   "source": [
    "#plotting the month in which Tsunamis are occuring more\n",
    "\n",
    "plt.figure(figsize=(6,4))\n",
    "month_idxs = np.array(list(map(lambda x: int(x), df_eda[\"MONTH\"].value_counts().keys().tolist())))-1\n",
    "month_names = [\"Jan\", \"Feb\", \"Mar\", \"Apr\", \"May\", \"Jun\", \"Jul\", \"Aug\", \"Sep\", \"Oct\", \"Nov\", \"Dec\"]\n",
    "months = list(map(month_names.__getitem__, month_idxs))\n",
    "ax = sns.countplot(y=\"MONTH\", data=df_eda, order=df_eda[\"MONTH\"].value_counts().index)\n",
    "ax.axes.set_title(\"Month vs. # Tsunamis\",fontsize=18)\n",
    "ax.set_xlabel(\"Number of Tsunamis\",fontsize=16)\n",
    "ax.set_ylabel(\"Month\",fontsize=16)\n",
    "ax.tick_params(labelsize=12)\n",
    "ax.set_yticklabels(months, rotation=0, fontsize=12)\n",
    "plt.tight_layout()\n",
    "plt.show()"
   ]
  },
  {
   "cell_type": "code",
   "execution_count": 312,
   "metadata": {},
   "outputs": [
    {
     "data": {
      "image/png": "[encoded data removed]",
      "text/plain": [
       "<Figure size 720x360 with 1 Axes>"
      ]
     },
     "metadata": {
      "needs_background": "light"
     },
     "output_type": "display_data"
    }
   ],
   "source": [
    "#plotting the occurence of event validity/Tsunami effect\n",
    "\n",
    "plt.figure(figsize=(10,5))\n",
    "ax = sns.countplot(y=\"EVENT_VALIDITY\", data=df_eda, order=df_eda[\"EVENT_VALIDITY\"].value_counts().index)\n",
    "ax.set_xscale(\"log\")\n",
    "ax.axes.set_title(\"Event Validity vs. # Tsunamis (Log Scale)\",fontsize=18)\n",
    "ax.set_xlabel(\"Number of Tsunamis (Log Scale)\",fontsize=16)\n",
    "ax.set_ylabel(\"Event Validity\",fontsize=16)\n",
    "ax.tick_params(labelsize=12)\n",
    "plt.tight_layout()\n",
    "plt.show()"
   ]
  },
  {
   "cell_type": "markdown",
   "metadata": {},
   "source": [
    "#### Bivariate analysis"
   ]
  },
  {
   "cell_type": "code",
   "execution_count": 322,
   "metadata": {},
   "outputs": [
    {
     "data": {
      "image/png": "[encoded data removed]",
      "text/plain": [
       "<Figure size 1080x720 with 1 Axes>"
      ]
     },
     "metadata": {
      "needs_background": "light"
     },
     "output_type": "display_data"
    }
   ],
   "source": [
    "#plotting the effect of cause on event validity\n",
    "\n",
    "plt.rcParams['figure.figsize'] = (15, 10)\n",
    "x = pd.crosstab(df_eda['CAUSE'], df_eda['EVENT_VALIDITY'])\n",
    "x.div(x.sum(1).astype(float), axis = 0).plot(kind = 'bar', stacked = False)\n",
    "plt.title('Effect of CAUSE on EVENT_VALIDITY', fontsize = 15)\n",
    "plt.xlabel(' ')\n",
    "plt.show()"
   ]
  },
  {
   "cell_type": "code",
   "execution_count": 326,
   "metadata": {},
   "outputs": [
    {
     "data": {
      "image/png": "[encoded data removed]",
      "text/plain": [
       "<Figure size 1440x432 with 1 Axes>"
      ]
     },
     "metadata": {},
     "output_type": "display_data"
    }
   ],
   "source": [
    "#plotting the line graph of the occurence of CAUSE over the years\n",
    "sns.set(rc = {'figure.figsize' : (20,6)})\n",
    "sns.lineplot(x= \"CAUSE\", y = \"YEAR\", data = df_eda)\n",
    "plt.show()"
   ]
  },
  {
   "cell_type": "code",
   "execution_count": 327,
   "metadata": {},
   "outputs": [
    {
     "data": {
      "image/png": "[encoded data removed]",
      "text/plain": [
       "<Figure size 1440x432 with 1 Axes>"
      ]
     },
     "metadata": {},
     "output_type": "display_data"
    }
   ],
   "source": [
    "sns.set(rc = {'figure.figsize' : (20,6)})\n",
    "sns.lineplot(x= \"EVENT_VALIDITY\", y = \"YEAR\", data = df_eda)\n",
    "plt.show()"
   ]
  },
  {
   "cell_type": "markdown",
   "metadata": {},
   "source": [
    "From the above line graphs its clear that, Tsunamis due to earthquake and lanslide is more in the 20th century. The impact of Tsunami was high in the 20th century that too in the years 1920 to 1930. In the 19th century there were Tsunamis but the effect/impact was very less or doubtful and the cause was due to the volcanoes. "
   ]
  },
  {
   "cell_type": "markdown",
   "metadata": {},
   "source": [
    "### Modelling"
   ]
  },
  {
   "cell_type": "code",
   "execution_count": 331,
   "metadata": {},
   "outputs": [
    {
     "data": {
      "text/html": [
       "<div>\n",
       "<style scoped>\n",
       "    .dataframe tbody tr th:only-of-type {\n",
       "        vertical-align: middle;\n",
       "    }\n",
       "\n",
       "    .dataframe tbody tr th {\n",
       "        vertical-align: top;\n",
       "    }\n",
       "\n",
       "    .dataframe thead th {\n",
       "        text-align: right;\n",
       "    }\n",
       "</style>\n",
       "<table border=\"1\" class=\"dataframe\">\n",
       "  <thead>\n",
       "    <tr style=\"text-align: right;\">\n",
       "      <th></th>\n",
       "      <th>LATITUDE</th>\n",
       "      <th>LONGITUDE</th>\n",
       "      <th>CAUSE</th>\n",
       "      <th>EVENT_VALIDITY</th>\n",
       "      <th>EQ_MAGNITUDE</th>\n",
       "      <th>EQ_DEPTH</th>\n",
       "      <th>TS_INTENSITY</th>\n",
       "    </tr>\n",
       "  </thead>\n",
       "  <tbody>\n",
       "    <tr>\n",
       "      <th>2</th>\n",
       "      <td>36.404</td>\n",
       "      <td>25.396</td>\n",
       "      <td>7</td>\n",
       "      <td>0</td>\n",
       "      <td>6.3</td>\n",
       "      <td>0.0</td>\n",
       "      <td>6.0</td>\n",
       "    </tr>\n",
       "    <tr>\n",
       "      <th>3</th>\n",
       "      <td>38.733</td>\n",
       "      <td>-27.066</td>\n",
       "      <td>0</td>\n",
       "      <td>4</td>\n",
       "      <td>7.1</td>\n",
       "      <td>0.0</td>\n",
       "      <td>1.0</td>\n",
       "    </tr>\n",
       "    <tr>\n",
       "      <th>5</th>\n",
       "      <td>39.500</td>\n",
       "      <td>20.000</td>\n",
       "      <td>0</td>\n",
       "      <td>3</td>\n",
       "      <td>7.1</td>\n",
       "      <td>0.0</td>\n",
       "      <td>2.0</td>\n",
       "    </tr>\n",
       "    <tr>\n",
       "      <th>6</th>\n",
       "      <td>-6.174</td>\n",
       "      <td>106.829</td>\n",
       "      <td>0</td>\n",
       "      <td>4</td>\n",
       "      <td>7.1</td>\n",
       "      <td>0.0</td>\n",
       "      <td>0.0</td>\n",
       "    </tr>\n",
       "    <tr>\n",
       "      <th>7</th>\n",
       "      <td>-5.000</td>\n",
       "      <td>102.000</td>\n",
       "      <td>0</td>\n",
       "      <td>2</td>\n",
       "      <td>7.0</td>\n",
       "      <td>0.0</td>\n",
       "      <td>0.5</td>\n",
       "    </tr>\n",
       "  </tbody>\n",
       "</table>\n",
       "</div>"
      ],
      "text/plain": [
       "   LATITUDE  LONGITUDE  CAUSE  EVENT_VALIDITY  EQ_MAGNITUDE  EQ_DEPTH  \\\n",
       "2    36.404     25.396      7               0           6.3       0.0   \n",
       "3    38.733    -27.066      0               4           7.1       0.0   \n",
       "5    39.500     20.000      0               3           7.1       0.0   \n",
       "6    -6.174    106.829      0               4           7.1       0.0   \n",
       "7    -5.000    102.000      0               2           7.0       0.0   \n",
       "\n",
       "   TS_INTENSITY  \n",
       "2           6.0  \n",
       "3           1.0  \n",
       "5           2.0  \n",
       "6           0.0  \n",
       "7           0.5  "
      ]
     },
     "execution_count": 331,
     "metadata": {},
     "output_type": "execute_result"
    }
   ],
   "source": [
    "df.head()"
   ]
  },
  {
   "cell_type": "code",
   "execution_count": 423,
   "metadata": {},
   "outputs": [],
   "source": [
    "#This is a classification model which use to predict the event_validity of the Tsunami\n",
    "\n",
    "#splitting the dataset into X and y\n",
    "X=df.drop('EVENT_VALIDITY',axis=1)\n",
    "y=df['EVENT_VALIDITY']"
   ]
  },
  {
   "cell_type": "code",
   "execution_count": 424,
   "metadata": {},
   "outputs": [],
   "source": [
    "#importing train_test_split and creating train and test datasets\n",
    "from sklearn.model_selection import train_test_split\n",
    "X_train,X_test,y_train,y_test = train_test_split(X,y,test_size=0.2,random_state=42)"
   ]
  },
  {
   "cell_type": "code",
   "execution_count": 425,
   "metadata": {},
   "outputs": [],
   "source": [
    "from sklearn.metrics import confusion_matrix, accuracy_score, recall_score, precision_score, f1_score\n",
    "from sklearn.ensemble import RandomForestClassifier\n",
    "from sklearn.linear_model import LogisticRegression\n",
    "from sklearn.tree import DecisionTreeClassifier\n",
    "from sklearn.svm import SVC\n",
    "from sklearn.neighbors import KNeighborsClassifier"
   ]
  },
  {
   "cell_type": "code",
   "execution_count": 426,
   "metadata": {},
   "outputs": [],
   "source": [
    "#creating the empty list to display the accuracy and f1 score after running all models\n",
    "models=['RandomForest','LogisticRegression','DecisionTree','SVC','KNN']\n",
    "model_test_acc=[]\n",
    "model_test_f1_score = []\n",
    "model_test_precision_score =[]\n",
    "model_test_recall_score =[]"
   ]
  },
  {
   "cell_type": "markdown",
   "metadata": {},
   "source": [
    "#### Random Forest Model"
   ]
  },
  {
   "cell_type": "code",
   "execution_count": 427,
   "metadata": {},
   "outputs": [
    {
     "name": "stdout",
     "output_type": "stream",
     "text": [
      "F1 Score on test data using RandomForest tree:  0.547\n",
      "Accuracy Score on test data using RandomForest tree:  0.561\n"
     ]
    }
   ],
   "source": [
    "rfc = RandomForestClassifier()\n",
    "rfc.fit(X_train,y_train)\n",
    "y_pred = rfc.predict(X_test)\n",
    "test_acc =  np.round(accuracy_score(y_test,y_pred),3)\n",
    "test_f1 =  np.round(f1_score(y_test,y_pred,average='weighted'),3)\n",
    "#test_prec = np.round(recall_score(y_test, y_pred,average='weighted'),3)\n",
    "#test_recall = np.round(precision_score(y_test, y_pred,average='weighted'),3)\n",
    "\n",
    "\n",
    "model_test_f1_score.append(test_f1)\n",
    "model_test_acc.append(test_acc)\n",
    "#model_test_precision_score(test_prec)\n",
    "#model_test_recall_score(test_recall)\n",
    "\n",
    "print(\"F1 Score on test data using RandomForest tree: \",test_f1)\n",
    "print(\"Accuracy Score on test data using RandomForest tree: \",test_acc)\n",
    "#print(\"Recall score on  test data using RandomForest tree: \",test_prec)\n",
    "#print(\"Precision score on test data using RandomForest tree: \",test_recall)"
   ]
  },
  {
   "cell_type": "code",
   "execution_count": 428,
   "metadata": {},
   "outputs": [
    {
     "name": "stdout",
     "output_type": "stream",
     "text": [
      "Recall score on  test data using RandomForest tree:  0.561\n",
      "Precision score on test data using RandomForest tree:  0.54\n"
     ]
    }
   ],
   "source": [
    "test_prec = np.round(recall_score(y_test, y_pred,average='weighted'),3)\n",
    "test_recall = np.round(precision_score(y_test, y_pred,average='weighted'),3)\n",
    "model_test_precision_score.append(test_prec)\n",
    "model_test_recall_score.append(test_recall)\n",
    "print(\"Recall score on  test data using RandomForest tree: \",test_prec)\n",
    "print(\"Precision score on test data using RandomForest tree: \",test_recall)"
   ]
  },
  {
   "cell_type": "markdown",
   "metadata": {},
   "source": [
    "#### Logistic Regression Model"
   ]
  },
  {
   "cell_type": "code",
   "execution_count": 429,
   "metadata": {},
   "outputs": [
    {
     "name": "stdout",
     "output_type": "stream",
     "text": [
      "F1 Score on test data using LogisticRegression:  0.394\n",
      "Accuracy Score on test data using LogisticRegression:  0.526\n",
      "Recall score on  test data using LogisticRegression :  0.526\n",
      "Precision score on test data using LogisticRegression :  0.357\n"
     ]
    }
   ],
   "source": [
    "lr = LogisticRegression(max_iter=200)\n",
    "lr.fit(X_train,y_train)\n",
    "y_pred1 = lr.predict(X_test)\n",
    "test_acc =  np.round(accuracy_score(y_test,y_pred1),3)\n",
    "test_f1 =  np.round(f1_score(y_test,y_pred1,average='weighted'),3)\n",
    "test_prec = np.round(recall_score(y_test, y_pred1,average='weighted'),3)\n",
    "test_recall = np.round(precision_score(y_test, y_pred1,average='weighted'),3)\n",
    "\n",
    "model_test_f1_score.append(test_f1)\n",
    "model_test_acc.append(test_acc)\n",
    "model_test_precision_score.append(test_prec)\n",
    "model_test_recall_score.append(test_recall)\n",
    "\n",
    "\n",
    "print(\"F1 Score on test data using LogisticRegression: \",test_f1)\n",
    "print(\"Accuracy Score on test data using LogisticRegression: \",test_acc)\n",
    "print(\"Recall score on  test data using LogisticRegression : \",test_prec)\n",
    "print(\"Precision score on test data using LogisticRegression : \",test_recall)"
   ]
  },
  {
   "cell_type": "markdown",
   "metadata": {},
   "source": [
    "#### Decision Tree Model"
   ]
  },
  {
   "cell_type": "code",
   "execution_count": 430,
   "metadata": {},
   "outputs": [
    {
     "name": "stdout",
     "output_type": "stream",
     "text": [
      "F1 Score on test data using DecisionTree:  0.527\n",
      "Accuracy Score on test data using DecisionTree:  0.52\n",
      "Recall score on  test data using DecisionTree :  0.52\n",
      "Precision score on test data using DecisionTree :  0.544\n"
     ]
    }
   ],
   "source": [
    "tree = DecisionTreeClassifier()\n",
    "tree.fit(X_train,y_train)\n",
    "y_pred2 = tree.predict(X_test)\n",
    "test_acc =  np.round(accuracy_score(y_test,y_pred2),3)\n",
    "test_f1 =  np.round(f1_score(y_test,y_pred2,average='weighted'),3)\n",
    "test_prec = np.round(recall_score(y_test, y_pred2,average='weighted'),3)\n",
    "test_recall = np.round(precision_score(y_test, y_pred2,average='weighted'),3)\n",
    "\n",
    "\n",
    "model_test_f1_score.append(test_f1)\n",
    "model_test_acc.append(test_acc)\n",
    "model_test_precision_score.append(test_prec)\n",
    "model_test_recall_score.append(test_recall)\n",
    "\n",
    "print(\"F1 Score on test data using DecisionTree: \",test_f1)\n",
    "print(\"Accuracy Score on test data using DecisionTree: \",test_acc)\n",
    "print(\"Recall score on  test data using DecisionTree : \",test_prec)\n",
    "print(\"Precision score on test data using DecisionTree : \",test_recall)"
   ]
  },
  {
   "cell_type": "markdown",
   "metadata": {},
   "source": [
    "#### SVC Model"
   ]
  },
  {
   "cell_type": "code",
   "execution_count": 431,
   "metadata": {},
   "outputs": [
    {
     "name": "stdout",
     "output_type": "stream",
     "text": [
      "F1 Score on test data using SVM:  0.401\n",
      "Accuracy Score on test data using SVM:  0.523\n",
      "Recall score on  test data using SVM :  0.523\n",
      "Precision score on test data using SVM :  0.341\n"
     ]
    }
   ],
   "source": [
    "svm= SVC()\n",
    "svm.fit(X_train,y_train)\n",
    "y_pred3 = svm.predict(X_test)\n",
    "test_acc =  np.round(accuracy_score(y_test,y_pred3),3)\n",
    "test_f1 =  np.round(f1_score(y_test,y_pred3,average='weighted'),3)\n",
    "test_prec = np.round(recall_score(y_test, y_pred3,average='weighted'),3)\n",
    "test_recall = np.round(precision_score(y_test, y_pred3,average='weighted'),3)\n",
    "\n",
    "\n",
    "model_test_f1_score.append(test_f1)\n",
    "model_test_acc.append(test_acc)\n",
    "model_test_precision_score.append(test_prec)\n",
    "model_test_recall_score.append(test_recall)\n",
    "\n",
    "print(\"F1 Score on test data using SVM: \",test_f1)\n",
    "print(\"Accuracy Score on test data using SVM: \",test_acc)\n",
    "print(\"Recall score on  test data using SVM : \",test_prec)\n",
    "print(\"Precision score on test data using SVM : \",test_recall)"
   ]
  },
  {
   "cell_type": "markdown",
   "metadata": {},
   "source": [
    "#### KNN"
   ]
  },
  {
   "cell_type": "code",
   "execution_count": 432,
   "metadata": {},
   "outputs": [],
   "source": [
    "accuracy = []\n",
    "neighbors = np.arange(1,12)\n",
    "for k in neighbors:\n",
    "    classifier = KNeighborsClassifier(n_neighbors=k, metric='minkowski')\n",
    "    classifier.fit(X_train,y_train)\n",
    "    y_pred4 = classifier.predict(X_test)\n",
    "    acc = accuracy_score(y_pred4,y_test)\n",
    "    accuracy.append(acc)"
   ]
  },
  {
   "cell_type": "code",
   "execution_count": 433,
   "metadata": {},
   "outputs": [
    {
     "data": {
      "text/plain": [
       "[0.4479768786127168,\n",
       " 0.5144508670520231,\n",
       " 0.5057803468208093,\n",
       " 0.523121387283237,\n",
       " 0.523121387283237,\n",
       " 0.5115606936416185,\n",
       " 0.5115606936416185,\n",
       " 0.5260115606936416,\n",
       " 0.5404624277456648,\n",
       " 0.523121387283237,\n",
       " 0.546242774566474]"
      ]
     },
     "execution_count": 433,
     "metadata": {},
     "output_type": "execute_result"
    }
   ],
   "source": [
    "accuracy"
   ]
  },
  {
   "cell_type": "code",
   "execution_count": 434,
   "metadata": {},
   "outputs": [
    {
     "data": {
      "text/plain": [
       "<matplotlib.axes._subplots.AxesSubplot at 0x1ca83c3e610>"
      ]
     },
     "execution_count": 434,
     "metadata": {},
     "output_type": "execute_result"
    },
    {
     "data": {
      "image/png": "[encoded data removed]",
      "text/plain": [
       "<Figure size 1440x432 with 1 Axes>"
      ]
     },
     "metadata": {},
     "output_type": "display_data"
    }
   ],
   "source": [
    "sns.lineplot(x=neighbors,y=accuracy)"
   ]
  },
  {
   "cell_type": "code",
   "execution_count": 435,
   "metadata": {},
   "outputs": [
    {
     "name": "stdout",
     "output_type": "stream",
     "text": [
      "F1 Score on test data using KNN:  0.522\n",
      "Accuracy Score on test data using KNN:  0.546\n",
      "Recall score on  test data using SVM :  0.546\n",
      "Precision score on test data using SVM :  0.519\n"
     ]
    }
   ],
   "source": [
    "#Since accuracy score is good for 11, we can select 11 as k\n",
    "\n",
    "classifier = KNeighborsClassifier(n_neighbors=11, metric='minkowski')\n",
    "classifier.fit(X_train,y_train)\n",
    "y_pred5 = classifier.predict(X_test)\n",
    "test_acc =  np.round(accuracy_score(y_test,y_pred5),3)\n",
    "test_f1 =  np.round(f1_score(y_test,y_pred5,average='weighted'),3)\n",
    "test_prec = np.round(recall_score(y_test, y_pred5,average='weighted'),3)\n",
    "test_recall = np.round(precision_score(y_test, y_pred5,average='weighted'),3)\n",
    "\n",
    "\n",
    "model_test_f1_score.append(test_f1)\n",
    "model_test_acc.append(test_acc)\n",
    "model_test_precision_score.append(test_prec)\n",
    "model_test_recall_score.append(test_recall)\n",
    "\n",
    "print(\"F1 Score on test data using KNN: \",test_f1)\n",
    "print(\"Accuracy Score on test data using KNN: \",test_acc)\n",
    "print(\"Recall score on  test data using SVM : \",test_prec)\n",
    "print(\"Precision score on test data using SVM : \",test_recall)"
   ]
  },
  {
   "cell_type": "code",
   "execution_count": 436,
   "metadata": {},
   "outputs": [
    {
     "data": {
      "text/html": [
       "<div>\n",
       "<style scoped>\n",
       "    .dataframe tbody tr th:only-of-type {\n",
       "        vertical-align: middle;\n",
       "    }\n",
       "\n",
       "    .dataframe tbody tr th {\n",
       "        vertical-align: top;\n",
       "    }\n",
       "\n",
       "    .dataframe thead th {\n",
       "        text-align: right;\n",
       "    }\n",
       "</style>\n",
       "<table border=\"1\" class=\"dataframe\">\n",
       "  <thead>\n",
       "    <tr style=\"text-align: right;\">\n",
       "      <th></th>\n",
       "      <th>model</th>\n",
       "      <th>f1_score</th>\n",
       "      <th>accuracy</th>\n",
       "      <th>Recall_score</th>\n",
       "      <th>Precision_score</th>\n",
       "    </tr>\n",
       "  </thead>\n",
       "  <tbody>\n",
       "    <tr>\n",
       "      <th>0</th>\n",
       "      <td>RandomForest</td>\n",
       "      <td>0.547</td>\n",
       "      <td>0.561</td>\n",
       "      <td>0.561</td>\n",
       "      <td>0.540</td>\n",
       "    </tr>\n",
       "    <tr>\n",
       "      <th>1</th>\n",
       "      <td>LogisticRegression</td>\n",
       "      <td>0.394</td>\n",
       "      <td>0.526</td>\n",
       "      <td>0.526</td>\n",
       "      <td>0.357</td>\n",
       "    </tr>\n",
       "    <tr>\n",
       "      <th>2</th>\n",
       "      <td>DecisionTree</td>\n",
       "      <td>0.527</td>\n",
       "      <td>0.520</td>\n",
       "      <td>0.520</td>\n",
       "      <td>0.544</td>\n",
       "    </tr>\n",
       "    <tr>\n",
       "      <th>3</th>\n",
       "      <td>SVC</td>\n",
       "      <td>0.401</td>\n",
       "      <td>0.523</td>\n",
       "      <td>0.523</td>\n",
       "      <td>0.341</td>\n",
       "    </tr>\n",
       "    <tr>\n",
       "      <th>4</th>\n",
       "      <td>KNN</td>\n",
       "      <td>0.522</td>\n",
       "      <td>0.546</td>\n",
       "      <td>0.546</td>\n",
       "      <td>0.519</td>\n",
       "    </tr>\n",
       "  </tbody>\n",
       "</table>\n",
       "</div>"
      ],
      "text/plain": [
       "                model  f1_score  accuracy  Recall_score  Precision_score\n",
       "0        RandomForest     0.547     0.561         0.561            0.540\n",
       "1  LogisticRegression     0.394     0.526         0.526            0.357\n",
       "2        DecisionTree     0.527     0.520         0.520            0.544\n",
       "3                 SVC     0.401     0.523         0.523            0.341\n",
       "4                 KNN     0.522     0.546         0.546            0.519"
      ]
     },
     "execution_count": 436,
     "metadata": {},
     "output_type": "execute_result"
    }
   ],
   "source": [
    "#displaying the accuracy and f1 score of each models\n",
    "model_performance = pd.DataFrame({\n",
    "    'model':models,\n",
    "    'f1_score':model_test_f1_score,\n",
    "    'accuracy':model_test_acc,\n",
    "    'Recall_score':model_test_precision_score,\n",
    "    'Precision_score':model_test_recall_score\n",
    "})\n",
    "model_performance"
   ]
  },
  {
   "cell_type": "markdown",
   "metadata": {},
   "source": [
    "RandomForestClassifier gives the good score in f1_score,accuracy,recall_score and precision"
   ]
  },
  {
   "cell_type": "markdown",
   "metadata": {},
   "source": [
    "### Standardization/Normalization\n",
    "trying to scale the data and checking whether there is any improvemnt in the model scores"
   ]
  },
  {
   "cell_type": "code",
   "execution_count": 448,
   "metadata": {},
   "outputs": [],
   "source": [
    "from sklearn.preprocessing import MinMaxScaler, StandardScaler, normalize"
   ]
  },
  {
   "cell_type": "code",
   "execution_count": 504,
   "metadata": {},
   "outputs": [],
   "source": [
    "X=df.drop(['EVENT_VALIDITY'],axis=1)\n",
    "y=df['EVENT_VALIDITY']"
   ]
  },
  {
   "cell_type": "code",
   "execution_count": 506,
   "metadata": {},
   "outputs": [
    {
     "data": {
      "text/html": [
       "<div>\n",
       "<style scoped>\n",
       "    .dataframe tbody tr th:only-of-type {\n",
       "        vertical-align: middle;\n",
       "    }\n",
       "\n",
       "    .dataframe tbody tr th {\n",
       "        vertical-align: top;\n",
       "    }\n",
       "\n",
       "    .dataframe thead th {\n",
       "        text-align: right;\n",
       "    }\n",
       "</style>\n",
       "<table border=\"1\" class=\"dataframe\">\n",
       "  <thead>\n",
       "    <tr style=\"text-align: right;\">\n",
       "      <th></th>\n",
       "      <th>0</th>\n",
       "      <th>1</th>\n",
       "      <th>2</th>\n",
       "      <th>3</th>\n",
       "      <th>4</th>\n",
       "      <th>5</th>\n",
       "    </tr>\n",
       "  </thead>\n",
       "  <tbody>\n",
       "    <tr>\n",
       "      <th>0</th>\n",
       "      <td>0.711895</td>\n",
       "      <td>-0.211853</td>\n",
       "      <td>5.743736</td>\n",
       "      <td>-0.903827</td>\n",
       "      <td>-0.783706</td>\n",
       "      <td>3.358011</td>\n",
       "    </tr>\n",
       "    <tr>\n",
       "      <th>1</th>\n",
       "      <td>0.797297</td>\n",
       "      <td>-0.710251</td>\n",
       "      <td>-0.310121</td>\n",
       "      <td>-0.008287</td>\n",
       "      <td>-0.783706</td>\n",
       "      <td>-0.287811</td>\n",
       "    </tr>\n",
       "    <tr>\n",
       "      <th>2</th>\n",
       "      <td>0.825422</td>\n",
       "      <td>-0.263116</td>\n",
       "      <td>-0.310121</td>\n",
       "      <td>-0.008287</td>\n",
       "      <td>-0.783706</td>\n",
       "      <td>0.441353</td>\n",
       "    </tr>\n",
       "    <tr>\n",
       "      <th>3</th>\n",
       "      <td>-0.849392</td>\n",
       "      <td>0.561774</td>\n",
       "      <td>-0.310121</td>\n",
       "      <td>-0.008287</td>\n",
       "      <td>-0.783706</td>\n",
       "      <td>-1.016976</td>\n",
       "    </tr>\n",
       "    <tr>\n",
       "      <th>4</th>\n",
       "      <td>-0.806343</td>\n",
       "      <td>0.515898</td>\n",
       "      <td>-0.310121</td>\n",
       "      <td>-0.120230</td>\n",
       "      <td>-0.783706</td>\n",
       "      <td>-0.652393</td>\n",
       "    </tr>\n",
       "  </tbody>\n",
       "</table>\n",
       "</div>"
      ],
      "text/plain": [
       "          0         1         2         3         4         5\n",
       "0  0.711895 -0.211853  5.743736 -0.903827 -0.783706  3.358011\n",
       "1  0.797297 -0.710251 -0.310121 -0.008287 -0.783706 -0.287811\n",
       "2  0.825422 -0.263116 -0.310121 -0.008287 -0.783706  0.441353\n",
       "3 -0.849392  0.561774 -0.310121 -0.008287 -0.783706 -1.016976\n",
       "4 -0.806343  0.515898 -0.310121 -0.120230 -0.783706 -0.652393"
      ]
     },
     "execution_count": 506,
     "metadata": {},
     "output_type": "execute_result"
    }
   ],
   "source": [
    "ss=StandardScaler()\n",
    "X=ss.fit_transform(X)\n",
    "X=pd.DataFrame(X)\n",
    "X.head()"
   ]
  },
  {
   "cell_type": "code",
   "execution_count": 507,
   "metadata": {},
   "outputs": [],
   "source": [
    "X_train,X_test,y_train,y_test = train_test_split(X,y,test_size=0.2,random_state=42)\n",
    "#scaled=scaled_data.round(decimals=3)\n",
    "#scaled.head()"
   ]
  },
  {
   "cell_type": "code",
   "execution_count": 508,
   "metadata": {},
   "outputs": [
    {
     "name": "stdout",
     "output_type": "stream",
     "text": [
      "Test Accuracy: 0.5722543352601156\n",
      "F1_score: 0.5564230471440694\n",
      "Recall_score: 0.5722543352601156\n",
      "Precision_score: 0.5466955684007707\n"
     ]
    }
   ],
   "source": [
    "#Random Classifier Model and fitting after scaling using minmaxscaler\n",
    "\n",
    "rf=RandomForestClassifier()\n",
    "model=rf.fit(X_train,y_train)\n",
    "y_pred=model.predict(X_test)\n",
    "y_train_pred=model.predict(X_train)\n",
    "\n",
    "print('Test Accuracy:',accuracy_score(y_test,y_pred))\n",
    "print('F1_score:',f1_score(y_test,y_pred,average='weighted'))\n",
    "print('Recall_score:',recall_score(y_test,y_pred,average='weighted'))\n",
    "print('Precision_score:',precision_score(y_test,y_pred,average='weighted'))"
   ]
  },
  {
   "cell_type": "code",
   "execution_count": 509,
   "metadata": {},
   "outputs": [
    {
     "name": "stdout",
     "output_type": "stream",
     "text": [
      "Test Accuracy: 0.5404624277456648\n",
      "F1_score: 0.5430876072557183\n",
      "Recall_score: 0.5404624277456648\n",
      "Precision_score: 0.5529437270018563\n"
     ]
    }
   ],
   "source": [
    "tree1 = DecisionTreeClassifier()\n",
    "tree1.fit(X_train,y_train)\n",
    "y_pred2 = tree1.predict(X_test)\n",
    "\n",
    "print('Test Accuracy:',accuracy_score(y_test,y_pred2))\n",
    "print('F1_score:',f1_score(y_test,y_pred2,average='weighted'))\n",
    "print('Recall_score:',recall_score(y_test,y_pred2,average='weighted'))\n",
    "print('Precision_score:',precision_score(y_test,y_pred2,average='weighted'))"
   ]
  },
  {
   "cell_type": "code",
   "execution_count": 510,
   "metadata": {},
   "outputs": [
    {
     "name": "stdout",
     "output_type": "stream",
     "text": [
      "Test Accuracy: 0.546242774566474\n",
      "F1_score: 0.4314738484104217\n",
      "Recall_score: 0.546242774566474\n",
      "Precision_score: 0.37423104743981206\n"
     ]
    }
   ],
   "source": [
    "lr1 = LogisticRegression(max_iter=200)\n",
    "lr1.fit(X_train,y_train)\n",
    "y_pred1 = lr1.predict(X_test)\n",
    "\n",
    "print('Test Accuracy:',accuracy_score(y_test,y_pred1))\n",
    "print('F1_score:',f1_score(y_test,y_pred1,average='weighted'))\n",
    "print('Recall_score:',recall_score(y_test,y_pred1,average='weighted'))\n",
    "print('Precision_score:',precision_score(y_test,y_pred1,average='weighted'))"
   ]
  },
  {
   "cell_type": "markdown",
   "metadata": {},
   "source": [
    "Even after scaling, there is only slight increase in the scores using Randomforest."
   ]
  },
  {
   "cell_type": "markdown",
   "metadata": {},
   "source": [
    "### Model Tuning"
   ]
  },
  {
   "cell_type": "code",
   "execution_count": 516,
   "metadata": {},
   "outputs": [
    {
     "name": "stdout",
     "output_type": "stream",
     "text": [
      "Accuracy Score is: 0.6040462427745664\n",
      "Recall Score is: 0.6040462427745664\n",
      "Precision Score: 0.6015074253724064\n",
      "F1 score is: 0.5315997532413568\n"
     ]
    }
   ],
   "source": [
    "rfc1 = RandomForestClassifier(criterion='gini',n_estimators=100,min_samples_split=100,\n",
    "                              min_samples_leaf=1,max_features='auto',oob_score=True,\n",
    "                             random_state=1,n_jobs=-1)\n",
    "rfc1.fit(X_train, y_train)\n",
    "y_pred0= rfc1.predict(X_test)\n",
    "print('Accuracy Score is:', accuracy_score(y_test, y_pred0))\n",
    "print('Recall Score is:', recall_score(y_test, y_pred0,average='weighted'))\n",
    "print('Precision Score:', precision_score(y_test, y_pred0,average='weighted'))\n",
    "print('F1 score is:', f1_score(y_test, y_pred0,average='weighted'))"
   ]
  },
  {
   "cell_type": "markdown",
   "metadata": {},
   "source": [
    "With parameter tuning, the accuracy has got improved in randomforest calssifier.Hence this can be taken as the best model among others"
   ]
  }
 ],
 "metadata": {
  "kernelspec": {
   "display_name": "Python 3",
   "language": "python",
   "name": "python3"
  },
  "language_info": {
   "codemirror_mode": {
    "name": "ipython",
    "version": 3
   },
   "file_extension": ".py",
   "mimetype": "text/x-python",
   "name": "python",
   "nbconvert_exporter": "python",
   "pygments_lexer": "ipython3",
   "version": "3.8.3"
  }
 },
 "nbformat": 4,
 "nbformat_minor": 4
}
