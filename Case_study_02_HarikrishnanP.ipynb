{
 "cells": [
  {
   "cell_type": "code",
   "execution_count": 68,
   "id": "8ef27ca8",
   "metadata": {},
   "outputs": [
    {
     "data": {
      "text/html": [
       "<div>\n",
       "<style scoped>\n",
       "    .dataframe tbody tr th:only-of-type {\n",
       "        vertical-align: middle;\n",
       "    }\n",
       "\n",
       "    .dataframe tbody tr th {\n",
       "        vertical-align: top;\n",
       "    }\n",
       "\n",
       "    .dataframe thead th {\n",
       "        text-align: right;\n",
       "    }\n",
       "</style>\n",
       "<table border=\"1\" class=\"dataframe\">\n",
       "  <thead>\n",
       "    <tr style=\"text-align: right;\">\n",
       "      <th></th>\n",
       "      <th>gender</th>\n",
       "      <th>race/ethnicity</th>\n",
       "      <th>parental level of education</th>\n",
       "      <th>lunch</th>\n",
       "      <th>test preparation course</th>\n",
       "      <th>math score</th>\n",
       "      <th>reading score</th>\n",
       "      <th>writing score</th>\n",
       "    </tr>\n",
       "  </thead>\n",
       "  <tbody>\n",
       "    <tr>\n",
       "      <th>0</th>\n",
       "      <td>female</td>\n",
       "      <td>group C</td>\n",
       "      <td>some high school</td>\n",
       "      <td>free/reduced</td>\n",
       "      <td>none</td>\n",
       "      <td>0</td>\n",
       "      <td>17</td>\n",
       "      <td>10</td>\n",
       "    </tr>\n",
       "    <tr>\n",
       "      <th>1</th>\n",
       "      <td>female</td>\n",
       "      <td>group B</td>\n",
       "      <td>high school</td>\n",
       "      <td>free/reduced</td>\n",
       "      <td>none</td>\n",
       "      <td>8</td>\n",
       "      <td>24</td>\n",
       "      <td>23</td>\n",
       "    </tr>\n",
       "    <tr>\n",
       "      <th>2</th>\n",
       "      <td>female</td>\n",
       "      <td>group B</td>\n",
       "      <td>some high school</td>\n",
       "      <td>free/reduced</td>\n",
       "      <td>none</td>\n",
       "      <td>18</td>\n",
       "      <td>32</td>\n",
       "      <td>28</td>\n",
       "    </tr>\n",
       "    <tr>\n",
       "      <th>3</th>\n",
       "      <td>female</td>\n",
       "      <td>group B</td>\n",
       "      <td>some college</td>\n",
       "      <td>standard</td>\n",
       "      <td>none</td>\n",
       "      <td>11</td>\n",
       "      <td>38</td>\n",
       "      <td>32</td>\n",
       "    </tr>\n",
       "    <tr>\n",
       "      <th>4</th>\n",
       "      <td>female</td>\n",
       "      <td>group C</td>\n",
       "      <td>some college</td>\n",
       "      <td>free/reduced</td>\n",
       "      <td>none</td>\n",
       "      <td>22</td>\n",
       "      <td>39</td>\n",
       "      <td>33</td>\n",
       "    </tr>\n",
       "  </tbody>\n",
       "</table>\n",
       "</div>"
      ],
      "text/plain": [
       "   gender race/ethnicity parental level of education         lunch  \\\n",
       "0  female        group C            some high school  free/reduced   \n",
       "1  female        group B                 high school  free/reduced   \n",
       "2  female        group B            some high school  free/reduced   \n",
       "3  female        group B                some college      standard   \n",
       "4  female        group C                some college  free/reduced   \n",
       "\n",
       "  test preparation course  math score  reading score  writing score  \n",
       "0                    none           0             17             10  \n",
       "1                    none           8             24             23  \n",
       "2                    none          18             32             28  \n",
       "3                    none          11             38             32  \n",
       "4                    none          22             39             33  "
      ]
     },
     "execution_count": 68,
     "metadata": {},
     "output_type": "execute_result"
    }
   ],
   "source": [
    "import pandas as pd\n",
    "import numpy as np\n",
    "import matplotlib.pyplot as plt\n",
    "import seaborn as sns\n",
    "\n",
    "df = pd.read_csv('StudentsPerformance.csv')\n",
    "df.head()"
   ]
  },
  {
   "cell_type": "markdown",
   "id": "c0cd34fa",
   "metadata": {},
   "source": [
    "## 1. Find out how many males and females participated in the test."
   ]
  },
  {
   "cell_type": "code",
   "execution_count": 24,
   "id": "52963e81",
   "metadata": {},
   "outputs": [
    {
     "name": "stdout",
     "output_type": "stream",
     "text": [
      "Number of males and females: \n"
     ]
    },
    {
     "data": {
      "text/html": [
       "<div>\n",
       "<style scoped>\n",
       "    .dataframe tbody tr th:only-of-type {\n",
       "        vertical-align: middle;\n",
       "    }\n",
       "\n",
       "    .dataframe tbody tr th {\n",
       "        vertical-align: top;\n",
       "    }\n",
       "\n",
       "    .dataframe thead th {\n",
       "        text-align: right;\n",
       "    }\n",
       "</style>\n",
       "<table border=\"1\" class=\"dataframe\">\n",
       "  <thead>\n",
       "    <tr style=\"text-align: right;\">\n",
       "      <th></th>\n",
       "      <th>gender</th>\n",
       "    </tr>\n",
       "    <tr>\n",
       "      <th>gender</th>\n",
       "      <th></th>\n",
       "    </tr>\n",
       "  </thead>\n",
       "  <tbody>\n",
       "    <tr>\n",
       "      <th>female</th>\n",
       "      <td>518</td>\n",
       "    </tr>\n",
       "    <tr>\n",
       "      <th>male</th>\n",
       "      <td>482</td>\n",
       "    </tr>\n",
       "  </tbody>\n",
       "</table>\n",
       "</div>"
      ],
      "text/plain": [
       "        gender\n",
       "gender        \n",
       "female     518\n",
       "male       482"
      ]
     },
     "execution_count": 24,
     "metadata": {},
     "output_type": "execute_result"
    }
   ],
   "source": [
    "df1= pd.DataFrame(df.groupby('gender')['gender'].count())\n",
    "print(\"Number of males and females: \")\n",
    "df1"
   ]
  },
  {
   "cell_type": "markdown",
   "id": "fb5757f3",
   "metadata": {},
   "source": [
    "## 2. What do you think about the students' parental level of education?"
   ]
  },
  {
   "cell_type": "code",
   "execution_count": 46,
   "id": "2ba73bc8",
   "metadata": {},
   "outputs": [
    {
     "name": "stdout",
     "output_type": "stream",
     "text": [
      "                             gender\n",
      "parental level of education        \n",
      "associate's degree              222\n",
      "bachelor's degree               118\n",
      "high school                     196\n",
      "master's degree                  59\n",
      "some college                    226\n",
      "some high school                179\n"
     ]
    },
    {
     "data": {
      "text/plain": [
       "<AxesSubplot:xlabel='parental level of education'>"
      ]
     },
     "execution_count": 46,
     "metadata": {},
     "output_type": "execute_result"
    },
    {
     "data": {
      "image/png": "[encoded data removed]",
      "text/plain": [
       "<Figure size 432x288 with 1 Axes>"
      ]
     },
     "metadata": {
      "needs_background": "light"
     },
     "output_type": "display_data"
    }
   ],
   "source": [
    "df2 = pd.DataFrame(df.groupby('parental level of education')['gender'].count())\n",
    "print(df2)\n",
    "df2.sort_values('gender',ascending=False).plot(kind='bar')"
   ]
  },
  {
   "cell_type": "markdown",
   "id": "4ac43f6b",
   "metadata": {},
   "source": [
    "More number of parents having college level or associate's degree level of education. Number of parents having master's degree level of education is very less.But around 375 parents having only high school level of education."
   ]
  },
  {
   "cell_type": "markdown",
   "id": "488fc75a",
   "metadata": {},
   "source": [
    "## 3. Who scores the most on average for math, reading and writing based on\n",
    "● Gender\n",
    "● Test preparation course"
   ]
  },
  {
   "cell_type": "markdown",
   "id": "94b0d02c",
   "metadata": {},
   "source": [
    "#### Average Math score based on gender"
   ]
  },
  {
   "cell_type": "code",
   "execution_count": 61,
   "id": "3c96dc29",
   "metadata": {},
   "outputs": [
    {
     "name": "stdout",
     "output_type": "stream",
     "text": [
      "        math score\n",
      "gender            \n",
      "female   63.376448\n",
      "male     68.821577\n"
     ]
    },
    {
     "data": {
      "image/png": "[encoded data removed]",
      "text/plain": [
       "<Figure size 432x288 with 1 Axes>"
      ]
     },
     "metadata": {
      "needs_background": "light"
     },
     "output_type": "display_data"
    }
   ],
   "source": [
    "df3 = pd.DataFrame(df.groupby('gender')['math score'].mean())\n",
    "print(df3)\n",
    "df3.plot(kind='bar')\n",
    "plt.title(\"Average Math score based on Gender\")\n",
    "plt.show()\n"
   ]
  },
  {
   "cell_type": "markdown",
   "id": "927b16f1",
   "metadata": {},
   "source": [
    "#### Average Reading score based on gender"
   ]
  },
  {
   "cell_type": "code",
   "execution_count": 63,
   "id": "ce463f09",
   "metadata": {},
   "outputs": [
    {
     "name": "stdout",
     "output_type": "stream",
     "text": [
      "        reading score\n",
      "gender               \n",
      "female      72.590734\n",
      "male        65.545643\n"
     ]
    },
    {
     "data": {
      "image/png": "[encoded data removed]",
      "text/plain": [
       "<Figure size 432x288 with 1 Axes>"
      ]
     },
     "metadata": {
      "needs_background": "light"
     },
     "output_type": "display_data"
    }
   ],
   "source": [
    "df4 = pd.DataFrame(df.groupby('gender')['reading score'].mean())\n",
    "print(df4)\n",
    "df4.plot(kind='bar')\n",
    "plt.title(\"Average Reading score based on Gender\")\n",
    "plt.show()"
   ]
  },
  {
   "cell_type": "markdown",
   "id": "5e862be3",
   "metadata": {},
   "source": [
    "#### Average writing score based on gender"
   ]
  },
  {
   "cell_type": "code",
   "execution_count": 64,
   "id": "4732c08e",
   "metadata": {},
   "outputs": [
    {
     "name": "stdout",
     "output_type": "stream",
     "text": [
      "        writing score\n",
      "gender               \n",
      "female      72.467181\n",
      "male        63.446058\n"
     ]
    },
    {
     "data": {
      "image/png": "[encoded data removed]",
      "text/plain": [
       "<Figure size 432x288 with 1 Axes>"
      ]
     },
     "metadata": {
      "needs_background": "light"
     },
     "output_type": "display_data"
    }
   ],
   "source": [
    "df5 = pd.DataFrame(df.groupby('gender')['writing score'].mean())\n",
    "print(df5)\n",
    "df5.plot(kind='bar')\n",
    "plt.title(\"Average Writing score based on Gender\")\n",
    "plt.show()"
   ]
  },
  {
   "cell_type": "markdown",
   "id": "507dc4c9",
   "metadata": {},
   "source": [
    "#### Average Math score based on Test Preparation course"
   ]
  },
  {
   "cell_type": "code",
   "execution_count": 65,
   "id": "dc1631b0",
   "metadata": {},
   "outputs": [
    {
     "name": "stdout",
     "output_type": "stream",
     "text": [
      "                         math score\n",
      "test preparation course            \n",
      "completed                  69.96648\n",
      "none                       63.78972\n"
     ]
    },
    {
     "data": {
      "image/png": "[encoded data removed]",
      "text/plain": [
       "<Figure size 432x288 with 1 Axes>"
      ]
     },
     "metadata": {
      "needs_background": "light"
     },
     "output_type": "display_data"
    }
   ],
   "source": [
    "df6 = pd.DataFrame(df.groupby('test preparation course')['math score'].mean())\n",
    "print(df6)\n",
    "df6.plot(kind='bar')\n",
    "plt.title(\"Average math score based on test preparation course\")\n",
    "plt.show()"
   ]
  },
  {
   "cell_type": "markdown",
   "id": "f574f256",
   "metadata": {},
   "source": [
    "#### Average reading score based on Test Preparation course"
   ]
  },
  {
   "cell_type": "code",
   "execution_count": 66,
   "id": "bde6d4f1",
   "metadata": {},
   "outputs": [
    {
     "name": "stdout",
     "output_type": "stream",
     "text": [
      "                         reading score\n",
      "test preparation course               \n",
      "completed                    74.175978\n",
      "none                         66.417445\n"
     ]
    },
    {
     "data": {
      "image/png": "[encoded data removed]",
      "text/plain": [
       "<Figure size 432x288 with 1 Axes>"
      ]
     },
     "metadata": {
      "needs_background": "light"
     },
     "output_type": "display_data"
    }
   ],
   "source": [
    "df7 = pd.DataFrame(df.groupby('test preparation course')['reading score'].mean())\n",
    "print(df7)\n",
    "df7.plot(kind='bar')\n",
    "plt.title(\"Average reading score based on test preparation course\")\n",
    "plt.show()"
   ]
  },
  {
   "cell_type": "markdown",
   "id": "3b6086fb",
   "metadata": {},
   "source": [
    "#### Average writing score based on Test Preparation course"
   ]
  },
  {
   "cell_type": "code",
   "execution_count": 67,
   "id": "6a5d4c53",
   "metadata": {},
   "outputs": [
    {
     "name": "stdout",
     "output_type": "stream",
     "text": [
      "                         writing score\n",
      "test preparation course               \n",
      "completed                    74.684358\n",
      "none                         64.457944\n"
     ]
    },
    {
     "data": {
      "image/png": "[encoded data removed]",
      "text/plain": [
       "<Figure size 432x288 with 1 Axes>"
      ]
     },
     "metadata": {
      "needs_background": "light"
     },
     "output_type": "display_data"
    }
   ],
   "source": [
    "df8 = pd.DataFrame(df.groupby('test preparation course')['writing score'].mean())\n",
    "print(df8)\n",
    "df8.plot(kind='bar')\n",
    "plt.title(\"Average writing score based on test preparation course\")\n",
    "plt.show()"
   ]
  },
  {
   "cell_type": "code",
   "execution_count": null,
   "id": "478a304e",
   "metadata": {},
   "outputs": [],
   "source": [
    "Result:\n",
    "Females scored most on average for reading and writing but males have got good average in math score\n",
    "Average math, reading and writing score is far better for students who completed the test preparation course"
   ]
  },
  {
   "cell_type": "markdown",
   "id": "d91e3e06",
   "metadata": {},
   "source": [
    "## 4. What do you think about the scoring variation for math, reading and writing based on\n",
    "● Gender\n",
    "● Test preparation course\n"
   ]
  },
  {
   "cell_type": "markdown",
   "id": "54b43ccc",
   "metadata": {},
   "source": [
    "#### Scoring Variation for math score based on Gender"
   ]
  },
  {
   "cell_type": "code",
   "execution_count": 84,
   "id": "52adbee8",
   "metadata": {},
   "outputs": [
    {
     "name": "stdout",
     "output_type": "stream",
     "text": [
      "        math score\n",
      "gender            \n",
      "female  256.958593\n",
      "male    211.889097\n"
     ]
    }
   ],
   "source": [
    "df9 = pd.DataFrame(df.groupby('gender')['math score'].var())\n",
    "print(df9)"
   ]
  },
  {
   "cell_type": "markdown",
   "id": "f41fa875",
   "metadata": {},
   "source": [
    "#### Scoring Variation for reading score based on Gender"
   ]
  },
  {
   "cell_type": "code",
   "execution_count": 85,
   "id": "3108668d",
   "metadata": {},
   "outputs": [
    {
     "name": "stdout",
     "output_type": "stream",
     "text": [
      "        reading score\n",
      "gender               \n",
      "female     207.677438\n",
      "male       200.211010\n"
     ]
    }
   ],
   "source": [
    "df10 = pd.DataFrame(df.groupby('gender')['reading score'].var())\n",
    "print(df10)"
   ]
  },
  {
   "cell_type": "markdown",
   "id": "0f48c210",
   "metadata": {},
   "source": [
    "#### Scoring Variation for writing score based on Gender"
   ]
  },
  {
   "cell_type": "code",
   "execution_count": 86,
   "id": "37a7ef9f",
   "metadata": {},
   "outputs": [
    {
     "name": "stdout",
     "output_type": "stream",
     "text": [
      "        writing score\n",
      "gender               \n",
      "female     220.369327\n",
      "male       202.413924\n"
     ]
    }
   ],
   "source": [
    "df11 = pd.DataFrame(df.groupby('gender')['writing score'].var())\n",
    "print(df11)"
   ]
  },
  {
   "cell_type": "markdown",
   "id": "208f0fda",
   "metadata": {},
   "source": [
    "#### Scoring Variation for math score based on test preparation course"
   ]
  },
  {
   "cell_type": "code",
   "execution_count": 91,
   "id": "9d4eb0ee",
   "metadata": {},
   "outputs": [
    {
     "name": "stdout",
     "output_type": "stream",
     "text": [
      "                         math score\n",
      "test preparation course            \n",
      "completed                210.884027\n",
      "none                     246.668662\n"
     ]
    }
   ],
   "source": [
    "df12 = pd.DataFrame(df.groupby('test preparation course')['math score'].var())\n",
    "print(df12)\n"
   ]
  },
  {
   "cell_type": "markdown",
   "id": "b85d7d83",
   "metadata": {},
   "source": [
    "#### Scoring Variation for reading score based on test preparation course"
   ]
  },
  {
   "cell_type": "code",
   "execution_count": 93,
   "id": "55392a3c",
   "metadata": {},
   "outputs": [
    {
     "name": "stdout",
     "output_type": "stream",
     "text": [
      "                         reading score\n",
      "test preparation course               \n",
      "completed                   183.265864\n",
      "none                        213.419851\n"
     ]
    }
   ],
   "source": [
    "df13 = pd.DataFrame(df.groupby('test preparation course')['reading score'].var())\n",
    "print(df13)\n"
   ]
  },
  {
   "cell_type": "markdown",
   "id": "0571c13c",
   "metadata": {},
   "source": [
    "#### Scoring Variation for writing score based on test preparation course"
   ]
  },
  {
   "cell_type": "code",
   "execution_count": 89,
   "id": "a419ad1e",
   "metadata": {},
   "outputs": [
    {
     "name": "stdout",
     "output_type": "stream",
     "text": [
      "                         writing score\n",
      "test preparation course               \n",
      "completed                   175.202612\n",
      "none                        226.251739\n"
     ]
    }
   ],
   "source": [
    "df14 = pd.DataFrame(df.groupby('test preparation course')['writing score'].var())\n",
    "print(df14)\n"
   ]
  },
  {
   "cell_type": "markdown",
   "id": "ee7ec1d7",
   "metadata": {},
   "source": [
    "Inference: \n",
    "\n",
    "Females have got very high score variance in maths, where as the variance is less for females in reading and writing compared to males.\n",
    "Males have got more variance in writing score compared to females.\n",
    "\n",
    "Its clearly shows that high variance of marks in maths,reading and writing for the students who havent taken the test preparation course. Their scores are varying highly"
   ]
  },
  {
   "cell_type": "markdown",
   "id": "ee3ac2b2",
   "metadata": {},
   "source": [
    "### 5. The management needs your help to give bonus points to the top 25% of students based on their maths score, so how will you help the management to achieve this.\n"
   ]
  },
  {
   "cell_type": "code",
   "execution_count": 133,
   "id": "f2239aba",
   "metadata": {},
   "outputs": [
    {
     "data": {
      "text/html": [
       "<div>\n",
       "<style scoped>\n",
       "    .dataframe tbody tr th:only-of-type {\n",
       "        vertical-align: middle;\n",
       "    }\n",
       "\n",
       "    .dataframe tbody tr th {\n",
       "        vertical-align: top;\n",
       "    }\n",
       "\n",
       "    .dataframe thead th {\n",
       "        text-align: right;\n",
       "    }\n",
       "</style>\n",
       "<table border=\"1\" class=\"dataframe\">\n",
       "  <thead>\n",
       "    <tr style=\"text-align: right;\">\n",
       "      <th></th>\n",
       "      <th>gender</th>\n",
       "      <th>race/ethnicity</th>\n",
       "      <th>parental level of education</th>\n",
       "      <th>lunch</th>\n",
       "      <th>test preparation course</th>\n",
       "      <th>math score</th>\n",
       "      <th>reading score</th>\n",
       "      <th>writing score</th>\n",
       "      <th>bonus_points</th>\n",
       "    </tr>\n",
       "  </thead>\n",
       "  <tbody>\n",
       "    <tr>\n",
       "      <th>515</th>\n",
       "      <td>female</td>\n",
       "      <td>group E</td>\n",
       "      <td>some college</td>\n",
       "      <td>standard</td>\n",
       "      <td>none</td>\n",
       "      <td>100</td>\n",
       "      <td>92</td>\n",
       "      <td>97</td>\n",
       "      <td>10</td>\n",
       "    </tr>\n",
       "    <tr>\n",
       "      <th>516</th>\n",
       "      <td>female</td>\n",
       "      <td>group E</td>\n",
       "      <td>bachelor's degree</td>\n",
       "      <td>standard</td>\n",
       "      <td>none</td>\n",
       "      <td>100</td>\n",
       "      <td>100</td>\n",
       "      <td>100</td>\n",
       "      <td>10</td>\n",
       "    </tr>\n",
       "    <tr>\n",
       "      <th>517</th>\n",
       "      <td>female</td>\n",
       "      <td>group E</td>\n",
       "      <td>associate's degree</td>\n",
       "      <td>standard</td>\n",
       "      <td>none</td>\n",
       "      <td>100</td>\n",
       "      <td>100</td>\n",
       "      <td>100</td>\n",
       "      <td>10</td>\n",
       "    </tr>\n",
       "    <tr>\n",
       "      <th>996</th>\n",
       "      <td>male</td>\n",
       "      <td>group A</td>\n",
       "      <td>some college</td>\n",
       "      <td>standard</td>\n",
       "      <td>completed</td>\n",
       "      <td>100</td>\n",
       "      <td>96</td>\n",
       "      <td>86</td>\n",
       "      <td>10</td>\n",
       "    </tr>\n",
       "    <tr>\n",
       "      <th>997</th>\n",
       "      <td>male</td>\n",
       "      <td>group D</td>\n",
       "      <td>some college</td>\n",
       "      <td>standard</td>\n",
       "      <td>completed</td>\n",
       "      <td>100</td>\n",
       "      <td>97</td>\n",
       "      <td>99</td>\n",
       "      <td>10</td>\n",
       "    </tr>\n",
       "    <tr>\n",
       "      <th>...</th>\n",
       "      <td>...</td>\n",
       "      <td>...</td>\n",
       "      <td>...</td>\n",
       "      <td>...</td>\n",
       "      <td>...</td>\n",
       "      <td>...</td>\n",
       "      <td>...</td>\n",
       "      <td>...</td>\n",
       "      <td>...</td>\n",
       "    </tr>\n",
       "    <tr>\n",
       "      <th>428</th>\n",
       "      <td>female</td>\n",
       "      <td>group D</td>\n",
       "      <td>some college</td>\n",
       "      <td>free/reduced</td>\n",
       "      <td>none</td>\n",
       "      <td>77</td>\n",
       "      <td>86</td>\n",
       "      <td>86</td>\n",
       "      <td>10</td>\n",
       "    </tr>\n",
       "    <tr>\n",
       "      <th>429</th>\n",
       "      <td>female</td>\n",
       "      <td>group E</td>\n",
       "      <td>some high school</td>\n",
       "      <td>standard</td>\n",
       "      <td>none</td>\n",
       "      <td>77</td>\n",
       "      <td>79</td>\n",
       "      <td>80</td>\n",
       "      <td>10</td>\n",
       "    </tr>\n",
       "    <tr>\n",
       "      <th>849</th>\n",
       "      <td>male</td>\n",
       "      <td>group A</td>\n",
       "      <td>bachelor's degree</td>\n",
       "      <td>standard</td>\n",
       "      <td>none</td>\n",
       "      <td>77</td>\n",
       "      <td>67</td>\n",
       "      <td>68</td>\n",
       "      <td>10</td>\n",
       "    </tr>\n",
       "    <tr>\n",
       "      <th>850</th>\n",
       "      <td>male</td>\n",
       "      <td>group C</td>\n",
       "      <td>associate's degree</td>\n",
       "      <td>free/reduced</td>\n",
       "      <td>none</td>\n",
       "      <td>77</td>\n",
       "      <td>67</td>\n",
       "      <td>64</td>\n",
       "      <td>10</td>\n",
       "    </tr>\n",
       "    <tr>\n",
       "      <th>851</th>\n",
       "      <td>male</td>\n",
       "      <td>group D</td>\n",
       "      <td>some college</td>\n",
       "      <td>standard</td>\n",
       "      <td>completed</td>\n",
       "      <td>77</td>\n",
       "      <td>62</td>\n",
       "      <td>62</td>\n",
       "      <td>10</td>\n",
       "    </tr>\n",
       "  </tbody>\n",
       "</table>\n",
       "<p>250 rows × 9 columns</p>\n",
       "</div>"
      ],
      "text/plain": [
       "     gender race/ethnicity parental level of education         lunch  \\\n",
       "515  female        group E                some college      standard   \n",
       "516  female        group E           bachelor's degree      standard   \n",
       "517  female        group E          associate's degree      standard   \n",
       "996    male        group A                some college      standard   \n",
       "997    male        group D                some college      standard   \n",
       "..      ...            ...                         ...           ...   \n",
       "428  female        group D                some college  free/reduced   \n",
       "429  female        group E            some high school      standard   \n",
       "849    male        group A           bachelor's degree      standard   \n",
       "850    male        group C          associate's degree  free/reduced   \n",
       "851    male        group D                some college      standard   \n",
       "\n",
       "    test preparation course  math score  reading score  writing score  \\\n",
       "515                    none         100             92             97   \n",
       "516                    none         100            100            100   \n",
       "517                    none         100            100            100   \n",
       "996               completed         100             96             86   \n",
       "997               completed         100             97             99   \n",
       "..                      ...         ...            ...            ...   \n",
       "428                    none          77             86             86   \n",
       "429                    none          77             79             80   \n",
       "849                    none          77             67             68   \n",
       "850                    none          77             67             64   \n",
       "851               completed          77             62             62   \n",
       "\n",
       "     bonus_points  \n",
       "515            10  \n",
       "516            10  \n",
       "517            10  \n",
       "996            10  \n",
       "997            10  \n",
       "..            ...  \n",
       "428            10  \n",
       "429            10  \n",
       "849            10  \n",
       "850            10  \n",
       "851            10  \n",
       "\n",
       "[250 rows x 9 columns]"
      ]
     },
     "execution_count": 133,
     "metadata": {},
     "output_type": "execute_result"
    }
   ],
   "source": [
    "#df.sort_values('math score',ascending=False).head(int(len(df)*(25/100)))\n",
    "df_math = df.nlargest(int(len(df)*(25/100)),'math score')\n",
    "\n",
    "df_math['bonus_points']=10\n",
    "df_math"
   ]
  },
  {
   "cell_type": "markdown",
   "id": "c155f063",
   "metadata": {},
   "source": [
    "selected 25% of to math scorers and added a separate field for bonus points"
   ]
  }
 ],
 "metadata": {
  "kernelspec": {
   "display_name": "Python 3",
   "language": "python",
   "name": "python3"
  },
  "language_info": {
   "codemirror_mode": {
    "name": "ipython",
    "version": 3
   },
   "file_extension": ".py",
   "mimetype": "text/x-python",
   "name": "python",
   "nbconvert_exporter": "python",
   "pygments_lexer": "ipython3",
   "version": "3.8.8"
  }
 },
 "nbformat": 4,
 "nbformat_minor": 5
}
